{
 "cells": [
  {
   "cell_type": "code",
   "execution_count": 1,
   "metadata": {},
   "outputs": [],
   "source": [
    "import numpy as np\n",
    "import os \n",
    "import matplotlib.pyplot as plt\n",
    "from torch.utils.data import Dataset, DataLoader\n",
    "import math\n",
    "import torch\n",
    "import torch.nn as nn\n",
    "import random"
   ]
  },
  {
   "cell_type": "code",
   "execution_count": 2,
   "metadata": {},
   "outputs": [
    {
     "data": {
      "text/plain": [
       "'1.8.0a0+56b43f4'"
      ]
     },
     "execution_count": 2,
     "metadata": {},
     "output_type": "execute_result"
    }
   ],
   "source": [
    "import torch\n",
    "torch.__version__"
   ]
  },
  {
   "cell_type": "code",
   "execution_count": 3,
   "metadata": {},
   "outputs": [],
   "source": [
    "import os\n",
    "# os.environ[\"CUDA_VISIBLE_DEVICES\"] = \"4,5,6\""
   ]
  },
  {
   "cell_type": "code",
   "execution_count": 4,
   "metadata": {},
   "outputs": [],
   "source": [
    "seed = 69\n",
    "random.seed(seed)\n",
    "np.random.seed(seed)\n",
    "torch.manual_seed(seed)\n",
    "torch.cuda.manual_seed_all(seed)\n",
    "torch.backends.cudnn.deterministic = True\n",
    "torch.backends.cudnn.benchmark=False"
   ]
  },
  {
   "cell_type": "code",
   "execution_count": 43,
   "metadata": {},
   "outputs": [],
   "source": [
    "data_path = \"train/new_joints_vecs/\"\n",
    "label_path = \"train/original_texts/\"\n",
    "\n",
    "action_to_desc = {\n",
    "        \"bend and pull fast\" : 0,\n",
    "        \"countermovement jump\" : 1,\n",
    "        \"left countermovement jump\" : 2,\n",
    "        \"left lunge and twist\" : 3,\n",
    "        \"left lunge and twist fast\" : 4,\n",
    "        \"right countermovement jump\" : 5,\n",
    "        \"right lunge and twist\" : 6,\n",
    "        \"right lunge and twist fast\" : 7,\n",
    "        \"right single leg squat\" : 8,\n",
    "        \"squat\" : 9,\n",
    "        \"bend and pull\" : 10,\n",
    "        \"left single leg squat\" : 11,\n",
    "        \"push up\" : 12\n",
    "    }\n",
    "desc_to_action = sorted(action_to_desc.keys(), key=lambda x: action_to_desc[x]) "
   ]
  },
  {
   "cell_type": "code",
   "execution_count": 16,
   "metadata": {
    "notebookRunGroups": {
     "groupValue": "2"
    }
   },
   "outputs": [],
   "source": [
    "import numpy as np\n",
    "from torch.utils.data import Dataset, DataLoader, random_split\n",
    "from collections import Counter\n",
    "import torch.optim as optim\n",
    "\n",
    "class CustomDataset(Dataset):\n",
    "    def __init__(self, action_to_desc, max_seq_len, stride, mode):\n",
    "        data_path = mode + \"/new_joints_vecs/\"\n",
    "        self.data_path_mot = mode + \"/mot_data/\"\n",
    "        label_path = mode + \"/original_texts/\"\n",
    "        self.mcs_path = mode + \"/mcs/\"\n",
    "        self.data_path = data_path\n",
    "        self.label_path = label_path\n",
    "        self.action_to_desc = action_to_desc\n",
    "        self.max_seq_len = max_seq_len\n",
    "        self.stride = stride\n",
    "        self.samples = []\n",
    "        \n",
    "        class_counter = Counter()\n",
    "        \n",
    "        files = os.listdir(data_path)\n",
    "\n",
    "        for file in files:\n",
    "            if not file.endswith('.npy'):\n",
    "                continue\n",
    "            # data_file = np.load(data_path + file)\n",
    "            txt_file = file.replace('.npy','.txt')\n",
    "            label_file = label_path + txt_file\n",
    "            mcs_file = self.mcs_path + txt_file\n",
    "            if not os.path.isfile(mcs_file):\n",
    "                mcs_score = -1\n",
    "                continue \n",
    "            else:\n",
    "                with open(mcs_file, 'r') as f:\n",
    "                    mcs_score = f.readlines()\n",
    "                    mcs_score = float(mcs_score[0])\n",
    "            with open(label_file, 'r') as f:\n",
    "                label_text = f.readlines()\n",
    "            label = action_to_desc[label_text[0]]\n",
    "            class_counter[label] += 1\n",
    "            self.samples.append((data_path + file, label, mcs_score))\n",
    "\n",
    "        # for i in range(1232 + 1):\n",
    "        #     file = data_path + str(i) + \".npy\"\n",
    "        #     data_file = np.load(file)\n",
    "        #     label_file = label_path + str(i) + \".txt\"\n",
    "        #     with open(label_file, 'r') as f:\n",
    "        #         label_text = f.readlines()\n",
    "        #     label = action_to_desc[label_text[0]]\n",
    "        #     class_counter[label] += 1\n",
    "        #     self.samples.append((file, label))\n",
    "\n",
    "        # Calculate the maximum frequency of any class\n",
    "        print(\"Len num samples in file:\", len(self.samples))\n",
    "        max_class_frequency = max(class_counter.values())\n",
    "\n",
    "        # Calculate the sampling weight for each class\n",
    "        self.class_weights = {cls: max_class_frequency / freq for cls, freq in class_counter.items()}\n",
    "        \n",
    "    def __len__(self):\n",
    "        return len(self.samples)\n",
    "    \n",
    "    def __getitem__(self, idx):\n",
    "        while True:\n",
    "            file, label, mcs_score = self.samples[idx]\n",
    "            data_file = np.load(file)\n",
    "            mot_file = self.data_path_mot + file.split('/')[-1]\n",
    "            mot_file = np.load(mot_file)\n",
    "            \n",
    "            data_file = np.concatenate((data_file,mot_file[:-1]), axis = 1)\n",
    "            # print(data_file.shape)\n",
    "            \n",
    "            # Determine sampling probability based on class frequency\n",
    "            sampling_prob = 1 / self.class_weights[label]\n",
    "\n",
    "            # Perform sampling based on the calculated probability\n",
    "            if np.random.uniform() < sampling_prob:\n",
    "                if data_file.shape[0] <= self.max_seq_len*self.stride:\n",
    "                    padded_data = np.zeros((self.max_seq_len, data_file.shape[1]))\n",
    "                    temp = data_file[::self.stride,:]\n",
    "                    padded_data[:temp.shape[0], :] = temp\n",
    "                    data_file = padded_data\n",
    "                    start = 0\n",
    "                else:\n",
    "                    # print(len(data_file), max_seq_len)\n",
    "                    i = np.random.randint(0,len(data_file)-self.max_seq_len*self.stride)\n",
    "                    data_file = data_file[i:i+self.max_seq_len*self.stride:self.stride, :]\n",
    "                    start = i\n",
    "                # print(data_file.shape)\n",
    "                \n",
    "                # Only take every alternate time stamp\n",
    "                alternate_data = data_file # Take every alternate row\n",
    "\n",
    "                return alternate_data, label, mcs_score, start\n",
    "\n",
    "# Assuming you have defined data_path, label_path, action_to_desc, and max_seq_len\n",
    "\n",
    "# Create the custom dataset\n",
    "# custom_dataset = CustomDataset(data_path, label_path, action_to_desc, max_seq_len)\n",
    "\n",
    "# Remove None samples\n",
    "# custom_dataset.samples = [sample for sample in custom_dataset.samples if sample[0] is not None]\n",
    "\n",
    "# Create the data loader\n",
    "\n",
    "# dataset_size = len(custom_dataset)\n",
    "# train_size = int(0.8 * dataset_size)\n",
    "# test_size = dataset_size - train_size\n",
    "# train_dataset, test_dataset = random_split(custom_dataset, [train_size, test_size])"
   ]
  },
  {
   "cell_type": "code",
   "execution_count": 17,
   "metadata": {},
   "outputs": [
    {
     "name": "stdout",
     "output_type": "stream",
     "text": [
      "Len num samples in file: 407\n",
      "Len num samples in file: 175\n"
     ]
    }
   ],
   "source": [
    "max_seq_len = 50\n",
    "batch_size = 512\n",
    "stride = 3\n",
    "\n",
    "train_dataset = CustomDataset(action_to_desc, max_seq_len, stride, mode=\"train\")\n",
    "train_dataset.samples = [sample for sample in train_dataset.samples if sample[0] is not None]\n",
    "test_dataset = CustomDataset(action_to_desc, max_seq_len, stride, mode=\"eval\")\n",
    "test_dataset.samples = [sample for sample in test_dataset.samples if sample[0] is not None]\n",
    "\n",
    "# Create data loaders for training and testing\n",
    "train_loader = DataLoader(train_dataset, batch_size=batch_size, shuffle=True)\n",
    "test_loader = DataLoader(test_dataset, batch_size=batch_size, shuffle=False)"
   ]
  },
  {
   "cell_type": "code",
   "execution_count": 18,
   "metadata": {},
   "outputs": [],
   "source": [
    "input_size = max_seq_len * 299 #36 #263\n",
    "hidden_size1 = 256\n",
    "hidden_size2 = 256\n",
    "num_classes = 13 #len(np.unique(Y))  # Assuming Y contains integer labels\n",
    "learning_rate = 0.0005\n",
    "num_epochs = 100"
   ]
  },
  {
   "cell_type": "code",
   "execution_count": 19,
   "metadata": {},
   "outputs": [],
   "source": [
    "class MLP(nn.Module):\n",
    "    def __init__(self, input_size, hidden_size1, hidden_size2, num_classes, mcs_classes=5):\n",
    "        super(MLP, self).__init__()\n",
    "        self.fc1 = nn.Linear(input_size, hidden_size1)\n",
    "        # self.fc2 = nn.Linear(hidden_size1, hidden_size2)\n",
    "        self.fc3_lab = nn.Linear(hidden_size1, num_classes)\n",
    "        self.fc3_mcs = nn.Linear(hidden_size1,mcs_classes)\n",
    "        # self.dp = nn.Dropout(0)\n",
    "        self.relu = nn.ReLU()\n",
    "\n",
    "    def forward(self, x, return_embeddings = False):\n",
    "        # print(x.shape)\n",
    "        x = x.view(x.size(0), -1)  # Flatten the input\n",
    "        x = self.relu(self.fc1(x)) \n",
    "        if return_embeddings:\n",
    "            return x\n",
    "        # x = self.relu(self.fc2(x)) + x\n",
    "        x_lab = self.fc3_lab(x)\n",
    "        x_mcs = self.fc3_mcs(x)\n",
    "        return x_lab, x_mcs\n",
    "\n",
    "# Create an instance of the MLP model\n",
    "model = MLP(input_size, hidden_size1, hidden_size2, num_classes).to('cuda')\n",
    "\n",
    "criterion = nn.CrossEntropyLoss(reduction='none')\n",
    "optimizer = optim.Adam(model.parameters(), lr=learning_rate)"
   ]
  },
  {
   "cell_type": "code",
   "execution_count": 20,
   "metadata": {},
   "outputs": [],
   "source": [
    "def extract_embeddings(dataloader, model):\n",
    "    embeddings = []\n",
    "    labels = []\n",
    "    mcs_scores = []\n",
    "    start = []\n",
    "    with torch.no_grad():\n",
    "        for inputs, lab, mcs, start_point in dataloader:\n",
    "            cpu_mcs = mcs.cpu().numpy()\n",
    "            idx = cpu_mcs != -1\n",
    "            inputs = inputs.float().to('cuda')\n",
    "            emb = model(inputs, return_embeddings=True)\n",
    "            embeddings.append(emb.cpu().numpy()[idx])\n",
    "            labels.append(lab.cpu().numpy()[idx])\n",
    "            mcs_scores.append(mcs.cpu().numpy()[idx])\n",
    "            start.append(start_point.cpu().numpy()[idx])\n",
    "    embeddings = np.vstack(embeddings)\n",
    "    labels = np.hstack(labels)\n",
    "    mcs_scores = np.hstack(mcs_scores)\n",
    "    start = np.hstack(start)\n",
    "    return embeddings, labels, mcs_scores, start"
   ]
  },
  {
   "cell_type": "code",
   "execution_count": 22,
   "metadata": {},
   "outputs": [
    {
     "name": "stdout",
     "output_type": "stream",
     "text": [
      "Epoch 10/100, Loss: 0.32333409786224365\n",
      "Label Accuracy on test set: 1.7142857142857144%\n",
      "MCS Accuracy on test set: 42.857142857142854%\n",
      "Epoch 20/100, Loss: 0.29765334725379944\n",
      "Label Accuracy on test set: 1.1428571428571428%\n",
      "MCS Accuracy on test set: 40.0%\n",
      "Epoch 30/100, Loss: 0.2660108208656311\n",
      "Label Accuracy on test set: 2.857142857142857%\n",
      "MCS Accuracy on test set: 41.14285714285714%\n",
      "Epoch 40/100, Loss: 0.2329172044992447\n",
      "Label Accuracy on test set: 2.2857142857142856%\n",
      "MCS Accuracy on test set: 42.857142857142854%\n",
      "Epoch 50/100, Loss: 0.23219287395477295\n",
      "Label Accuracy on test set: 1.7142857142857144%\n",
      "MCS Accuracy on test set: 45.714285714285715%\n",
      "Epoch 60/100, Loss: 0.21032091975212097\n",
      "Label Accuracy on test set: 1.1428571428571428%\n",
      "MCS Accuracy on test set: 37.714285714285715%\n",
      "Epoch 70/100, Loss: 0.1910124570131302\n",
      "Label Accuracy on test set: 1.7142857142857144%\n",
      "MCS Accuracy on test set: 38.857142857142854%\n",
      "Epoch 80/100, Loss: 0.1632494330406189\n",
      "Label Accuracy on test set: 2.2857142857142856%\n",
      "MCS Accuracy on test set: 44.0%\n",
      "Epoch 90/100, Loss: 0.14905297756195068\n",
      "Label Accuracy on test set: 1.7142857142857144%\n",
      "MCS Accuracy on test set: 42.285714285714285%\n",
      "Epoch 100/100, Loss: 0.15739965438842773\n",
      "Label Accuracy on test set: 3.428571428571429%\n",
      "MCS Accuracy on test set: 43.42857142857143%\n"
     ]
    }
   ],
   "source": [
    "def calculate_accuracy(outputs, labels):\n",
    "    _, predicted = torch.max(outputs, 1)\n",
    "    correct = (predicted == labels).sum().item()\n",
    "    total = labels.size(0)\n",
    "    return correct, total\n",
    "\n",
    "# Training loop\n",
    "for epoch in range(num_epochs):\n",
    "    model.train()\n",
    "    total_loss = 0.0\n",
    "    for inputs, labels, mcs_scores,_ in train_loader:\n",
    "        inputs = inputs.float()  # Convert inputs to float\n",
    "        optimizer.zero_grad()\n",
    "        outputs_lab, outputs_mcs = model(inputs.to('cuda'))\n",
    "        \n",
    "        loss_lab = criterion(outputs_lab, labels.type(torch.long).to('cuda'))\n",
    "        \n",
    "        mcs_mask = (mcs_scores != -1)\n",
    "        if mcs_mask.any():\n",
    "            loss_mcs = criterion(outputs_mcs[mcs_mask], mcs_scores[mcs_mask].type(torch.long).to('cuda'))\n",
    "            # loss = loss_lab.mean() + loss_mcs.mean()\n",
    "            loss = loss_mcs.mean()\n",
    "        else:\n",
    "            # loss = loss_lab.mean()\n",
    "            continue \n",
    "            \n",
    "        loss.backward()\n",
    "        optimizer.step()\n",
    "        total_loss += loss.item()\n",
    "    if (epoch+1)%10 == 0:\n",
    "        print(f\"Epoch {epoch+1}/{num_epochs}, Loss: {total_loss/len(train_loader)}\")\n",
    "        model.eval()\n",
    "        correct_lab = 0\n",
    "        total_lab = 0\n",
    "        correct_mcs = 0\n",
    "        total_mcs = 0\n",
    "        with torch.no_grad():\n",
    "            for inputs, labels, mcs_scores,_ in test_loader:\n",
    "                inputs = inputs.float()  # Convert inputs to float\n",
    "                labels = labels.to('cuda')\n",
    "                mcs_scores = mcs_scores.to('cuda')\n",
    "                outputs_lab, outputs_mcs = model(inputs.to('cuda'))\n",
    "                # Calculate label accuracy\n",
    "                correct, total = calculate_accuracy(outputs_lab, labels)\n",
    "                correct_lab += correct\n",
    "                total_lab += total\n",
    "                \n",
    "                # Calculate MCS accuracy, ignoring samples with MCS score -1\n",
    "                mcs_mask = (mcs_scores != -1)\n",
    "                if mcs_mask.any():\n",
    "                    correct, total = calculate_accuracy(outputs_mcs[mcs_mask], mcs_scores[mcs_mask])\n",
    "                    correct_mcs += correct\n",
    "                    total_mcs += total\n",
    "            # Print accuracy\n",
    "            print(f\"Label Accuracy on test set: {(correct_lab / total_lab) * 100}%\")\n",
    "            if total_mcs > 0:\n",
    "                print(f\"MCS Accuracy on test set: {(correct_mcs / total_mcs) * 100}%\")\n",
    "            else:\n",
    "                print(\"No valid MCS scores in the test set\")\n"
   ]
  },
  {
   "cell_type": "code",
   "execution_count": 23,
   "metadata": {},
   "outputs": [],
   "source": [
    "# Extract and store training embeddings\n",
    "train_loader = DataLoader(train_dataset, batch_size=32, shuffle=False)\n",
    "train_embeddings, train_labels, train_mcs_scores, train_start_points = extract_embeddings(train_loader, model)\n",
    "\n",
    "# Extract and store test embeddings\n",
    "test_loader = DataLoader(test_dataset, batch_size=32, shuffle=False)\n",
    "test_embeddings, test_labels, test_mcs_scores, test_start_points = extract_embeddings(test_loader, model)"
   ]
  },
  {
   "cell_type": "code",
   "execution_count": 27,
   "metadata": {},
   "outputs": [
    {
     "name": "stdout",
     "output_type": "stream",
     "text": [
      "Test 0: Closest Train sample:110\n",
      "Actual vs Training Label = bend and pull vs bend and pull.Actual vs Closest MCS Score = 3.0 vs 2.0, \n",
      "Test 1: Closest Train sample:404\n",
      "Actual vs Training Label = bend and pull full vs bend and pull full.Actual vs Closest MCS Score = 3.0 vs 1.0, \n",
      "Test 2: Closest Train sample:242\n",
      "Actual vs Training Label = bend and pull full vs bend and pull.Actual vs Closest MCS Score = 3.0 vs 3.0, \n",
      "Test 3: Closest Train sample:74\n",
      "Actual vs Training Label = bend and pull full vs bend and pull full.Actual vs Closest MCS Score = 3.0 vs 1.0, \n",
      "Test 4: Closest Train sample:379\n",
      "Actual vs Training Label = countermovement jump vs countermovement jump.Actual vs Closest MCS Score = 3.0 vs 2.0, \n",
      "Test 5: Closest Train sample:191\n",
      "Actual vs Training Label = countermovement jump vs left countermovement jump.Actual vs Closest MCS Score = 3.0 vs 3.0, \n",
      "Test 6: Closest Train sample:379\n",
      "Actual vs Training Label = countermovement jump vs countermovement jump.Actual vs Closest MCS Score = 3.0 vs 2.0, \n",
      "Test 7: Closest Train sample:100\n",
      "Actual vs Training Label = left countermovement jump vs squat.Actual vs Closest MCS Score = 3.0 vs 4.0, \n",
      "Test 8: Closest Train sample:101\n",
      "Actual vs Training Label = left countermovement jump vs squat.Actual vs Closest MCS Score = 3.0 vs 4.0, \n",
      "Test 9: Closest Train sample:101\n",
      "Actual vs Training Label = left countermovement jump vs squat.Actual vs Closest MCS Score = 3.0 vs 4.0, \n",
      "Test 10: Closest Train sample:28\n",
      "Actual vs Training Label = left lunge and twist vs left lunge and twist full.Actual vs Closest MCS Score = 4.0 vs 2.0, \n",
      "Test 11: Closest Train sample:56\n",
      "Actual vs Training Label = left lunge and twist full vs left lunge and twist full.Actual vs Closest MCS Score = 4.0 vs 3.0, \n",
      "Test 12: Closest Train sample:56\n",
      "Actual vs Training Label = left lunge and twist full vs left lunge and twist full.Actual vs Closest MCS Score = 4.0 vs 3.0, \n",
      "Test 13: Closest Train sample:121\n",
      "Actual vs Training Label = left lunge and twist full vs left lunge and twist full.Actual vs Closest MCS Score = 4.0 vs 3.0, \n",
      "Test 14: Closest Train sample:152\n",
      "Actual vs Training Label = left single leg squat vs squat.Actual vs Closest MCS Score = 4.0 vs 4.0, \n",
      "Test 15: Closest Train sample:182\n",
      "Actual vs Training Label = left single leg squat vs squat.Actual vs Closest MCS Score = 4.0 vs 4.0, \n",
      "Test 16: Closest Train sample:191\n",
      "Actual vs Training Label = left single leg squat vs left countermovement jump.Actual vs Closest MCS Score = 4.0 vs 3.0, \n",
      "Test 17: Closest Train sample:256\n",
      "Actual vs Training Label = push up vs push up.Actual vs Closest MCS Score = 4.0 vs 3.0, \n",
      "Test 18: Closest Train sample:61\n",
      "Actual vs Training Label = push up vs push up.Actual vs Closest MCS Score = 4.0 vs 2.0, \n",
      "Test 19: Closest Train sample:373\n",
      "Actual vs Training Label = right countermovement jump vs squat.Actual vs Closest MCS Score = 3.0 vs 3.0, \n",
      "Test 20: Closest Train sample:186\n",
      "Actual vs Training Label = bend and pull full vs bend and pull full.Actual vs Closest MCS Score = 3.0 vs 3.0, \n",
      "Test 21: Closest Train sample:53\n",
      "Actual vs Training Label = bend and pull full vs left countermovement jump.Actual vs Closest MCS Score = 3.0 vs 2.0, \n",
      "Test 22: Closest Train sample:378\n",
      "Actual vs Training Label = bend and pull full vs bend and pull full.Actual vs Closest MCS Score = 3.0 vs 2.0, \n",
      "Test 23: Closest Train sample:191\n",
      "Actual vs Training Label = countermovement jump vs left countermovement jump.Actual vs Closest MCS Score = 2.0 vs 3.0, \n",
      "Test 24: Closest Train sample:52\n",
      "Actual vs Training Label = countermovement jump vs countermovement jump.Actual vs Closest MCS Score = 2.0 vs 3.0, \n",
      "Test 25: Closest Train sample:381\n",
      "Actual vs Training Label = countermovement jump vs countermovement jump.Actual vs Closest MCS Score = 2.0 vs 2.0, \n",
      "Test 26: Closest Train sample:392\n",
      "Actual vs Training Label = left countermovement jump vs right countermovement jump.Actual vs Closest MCS Score = 2.0 vs 1.0, \n",
      "Test 27: Closest Train sample:382\n",
      "Actual vs Training Label = left countermovement jump vs left countermovement jump.Actual vs Closest MCS Score = 2.0 vs 1.0, \n",
      "Test 28: Closest Train sample:16\n",
      "Actual vs Training Label = left countermovement jump vs left single leg squat.Actual vs Closest MCS Score = 2.0 vs 1.0, \n",
      "Test 29: Closest Train sample:65\n",
      "Actual vs Training Label = left lunge and twist vs right lunge and twist full.Actual vs Closest MCS Score = 3.0 vs 3.0, \n",
      "Test 30: Closest Train sample:261\n",
      "Actual vs Training Label = left lunge and twist full vs right lunge and twist full.Actual vs Closest MCS Score = 3.0 vs 3.0, \n",
      "Test 31: Closest Train sample:252\n",
      "Actual vs Training Label = left lunge and twist full vs left lunge and twist full.Actual vs Closest MCS Score = 3.0 vs 3.0, \n",
      "Test 32: Closest Train sample:252\n",
      "Actual vs Training Label = left lunge and twist full vs left lunge and twist full.Actual vs Closest MCS Score = 3.0 vs 3.0, \n",
      "Test 33: Closest Train sample:283\n",
      "Actual vs Training Label = left single leg squat vs left single leg squat.Actual vs Closest MCS Score = 2.0 vs 1.0, \n",
      "Test 34: Closest Train sample:250\n",
      "Actual vs Training Label = left single leg squat vs left countermovement jump.Actual vs Closest MCS Score = 2.0 vs 1.0, \n",
      "Test 35: Closest Train sample:86\n",
      "Actual vs Training Label = left single leg squat vs left single leg squat.Actual vs Closest MCS Score = 2.0 vs 1.0, \n",
      "Test 36: Closest Train sample:338\n",
      "Actual vs Training Label = push up vs push up.Actual vs Closest MCS Score = 4.0 vs 3.0, \n",
      "Test 37: Closest Train sample:183\n",
      "Actual vs Training Label = right countermovement jump vs left countermovement jump.Actual vs Closest MCS Score = 2.0 vs 2.0, \n",
      "Test 38: Closest Train sample:260\n",
      "Actual vs Training Label = right lunge and twist vs right lunge and twist.Actual vs Closest MCS Score = 3.0 vs 4.0, \n",
      "Test 39: Closest Train sample:261\n",
      "Actual vs Training Label = right lunge and twist full vs right lunge and twist full.Actual vs Closest MCS Score = 3.0 vs 3.0, \n",
      "Test 40: Closest Train sample:316\n",
      "Actual vs Training Label = right lunge and twist full vs right lunge and twist full.Actual vs Closest MCS Score = 3.0 vs 4.0, \n",
      "Test 41: Closest Train sample:264\n",
      "Actual vs Training Label = right single leg squat vs right single leg squat.Actual vs Closest MCS Score = 2.0 vs 2.0, \n",
      "Test 42: Closest Train sample:97\n",
      "Actual vs Training Label = right single leg squat vs right single leg squat.Actual vs Closest MCS Score = 2.0 vs 2.0, \n",
      "Test 43: Closest Train sample:183\n",
      "Actual vs Training Label = right single leg squat vs left countermovement jump.Actual vs Closest MCS Score = 2.0 vs 2.0, \n",
      "Test 44: Closest Train sample:191\n",
      "Actual vs Training Label = squat vs left countermovement jump.Actual vs Closest MCS Score = 3.0 vs 3.0, \n",
      "Test 45: Closest Train sample:191\n",
      "Actual vs Training Label = squat vs left countermovement jump.Actual vs Closest MCS Score = 3.0 vs 3.0, \n",
      "Test 46: Closest Train sample:374\n",
      "Actual vs Training Label = squat vs squat.Actual vs Closest MCS Score = 3.0 vs 3.0, \n",
      "Test 47: Closest Train sample:17\n",
      "Actual vs Training Label = countermovement jump vs countermovement jump.Actual vs Closest MCS Score = 1.0 vs 2.0, \n",
      "Test 48: Closest Train sample:83\n",
      "Actual vs Training Label = right lunge and twist full vs left lunge and twist full.Actual vs Closest MCS Score = 1.0 vs 3.0, \n",
      "Test 49: Closest Train sample:209\n",
      "Actual vs Training Label = right countermovement jump vs right single leg squat.Actual vs Closest MCS Score = 3.0 vs 3.0, \n",
      "Test 50: Closest Train sample:327\n",
      "Actual vs Training Label = bend and pull full vs bend and pull full.Actual vs Closest MCS Score = 1.0 vs 3.0, \n",
      "Test 51: Closest Train sample:270\n",
      "Actual vs Training Label = bend and pull vs bend and pull full.Actual vs Closest MCS Score = 3.0 vs 1.0, \n",
      "Test 52: Closest Train sample:316\n",
      "Actual vs Training Label = right lunge and twist full vs right lunge and twist full.Actual vs Closest MCS Score = 3.0 vs 4.0, \n",
      "Test 53: Closest Train sample:87\n",
      "Actual vs Training Label = left countermovement jump vs left single leg squat.Actual vs Closest MCS Score = 2.0 vs 1.0, \n",
      "Test 54: Closest Train sample:128\n",
      "Actual vs Training Label = squat vs right countermovement jump.Actual vs Closest MCS Score = 3.0 vs 1.0, \n",
      "Test 55: Closest Train sample:55\n",
      "Actual vs Training Label = right lunge and twist vs left lunge and twist.Actual vs Closest MCS Score = 3.0 vs 3.0, \n",
      "Test 56: Closest Train sample:405\n",
      "Actual vs Training Label = bend and pull vs bend and pull full.Actual vs Closest MCS Score = 3.0 vs 1.0, \n",
      "Test 57: Closest Train sample:216\n",
      "Actual vs Training Label = bend and pull full vs bend and pull full.Actual vs Closest MCS Score = 3.0 vs 2.0, \n",
      "Test 58: Closest Train sample:215\n",
      "Actual vs Training Label = bend and pull full vs bend and pull full.Actual vs Closest MCS Score = 3.0 vs 2.0, \n",
      "Test 59: Closest Train sample:216\n",
      "Actual vs Training Label = bend and pull full vs bend and pull full.Actual vs Closest MCS Score = 3.0 vs 2.0, \n",
      "Test 60: Closest Train sample:128\n",
      "Actual vs Training Label = countermovement jump vs right countermovement jump.Actual vs Closest MCS Score = 3.0 vs 1.0, \n",
      "Test 61: Closest Train sample:128\n",
      "Actual vs Training Label = countermovement jump vs right countermovement jump.Actual vs Closest MCS Score = 3.0 vs 1.0, \n",
      "Test 62: Closest Train sample:128\n",
      "Actual vs Training Label = countermovement jump vs right countermovement jump.Actual vs Closest MCS Score = 3.0 vs 1.0, \n",
      "Test 63: Closest Train sample:24\n",
      "Actual vs Training Label = left countermovement jump vs left countermovement jump.Actual vs Closest MCS Score = 2.0 vs 1.0, \n",
      "Test 64: Closest Train sample:368\n",
      "Actual vs Training Label = left countermovement jump vs left countermovement jump.Actual vs Closest MCS Score = 2.0 vs 1.0, \n",
      "Test 65: Closest Train sample:81\n",
      "Actual vs Training Label = left lunge and twist vs left lunge and twist.Actual vs Closest MCS Score = 3.0 vs 3.0, \n",
      "Test 66: Closest Train sample:252\n",
      "Actual vs Training Label = left lunge and twist full vs left lunge and twist full.Actual vs Closest MCS Score = 3.0 vs 3.0, \n",
      "Test 67: Closest Train sample:136\n",
      "Actual vs Training Label = left lunge and twist full vs left lunge and twist full.Actual vs Closest MCS Score = 3.0 vs 3.0, \n",
      "Test 68: Closest Train sample:123\n",
      "Actual vs Training Label = left lunge and twist full vs left lunge and twist full.Actual vs Closest MCS Score = 3.0 vs 3.0, \n",
      "Test 69: Closest Train sample:113\n",
      "Actual vs Training Label = left single leg squat vs countermovement jump.Actual vs Closest MCS Score = 2.0 vs 2.0, \n",
      "Test 70: Closest Train sample:113\n",
      "Actual vs Training Label = left single leg squat vs countermovement jump.Actual vs Closest MCS Score = 2.0 vs 2.0, \n",
      "Test 71: Closest Train sample:124\n",
      "Actual vs Training Label = left single leg squat vs left single leg squat.Actual vs Closest MCS Score = 2.0 vs 2.0, \n",
      "Test 72: Closest Train sample:61\n",
      "Actual vs Training Label = push up vs push up.Actual vs Closest MCS Score = 3.0 vs 2.0, \n",
      "Test 73: Closest Train sample:61\n",
      "Actual vs Training Label = right countermovement jump vs push up.Actual vs Closest MCS Score = 2.0 vs 2.0, \n",
      "Test 74: Closest Train sample:79\n",
      "Actual vs Training Label = right countermovement jump vs left countermovement jump.Actual vs Closest MCS Score = 2.0 vs 1.0, \n",
      "Test 75: Closest Train sample:385\n",
      "Actual vs Training Label = right countermovement jump vs left lunge and twist.Actual vs Closest MCS Score = 2.0 vs 2.0, \n",
      "Test 76: Closest Train sample:394\n",
      "Actual vs Training Label = right lunge and twist vs right lunge and twist full.Actual vs Closest MCS Score = 3.0 vs 3.0, \n",
      "Test 77: Closest Train sample:357\n",
      "Actual vs Training Label = right lunge and twist full vs right lunge and twist.Actual vs Closest MCS Score = 3.0 vs 3.0, \n",
      "Test 78: Closest Train sample:395\n",
      "Actual vs Training Label = right lunge and twist full vs right lunge and twist full.Actual vs Closest MCS Score = 3.0 vs 3.0, \n",
      "Test 79: Closest Train sample:396\n",
      "Actual vs Training Label = right lunge and twist full vs right lunge and twist full.Actual vs Closest MCS Score = 3.0 vs 3.0, \n",
      "Test 80: Closest Train sample:18\n",
      "Actual vs Training Label = right single leg squat vs right single leg squat.Actual vs Closest MCS Score = 2.0 vs 2.0, \n",
      "Test 81: Closest Train sample:48\n",
      "Actual vs Training Label = right single leg squat vs bend and pull full.Actual vs Closest MCS Score = 2.0 vs 3.0, \n",
      "Test 82: Closest Train sample:264\n",
      "Actual vs Training Label = right single leg squat vs right single leg squat.Actual vs Closest MCS Score = 2.0 vs 2.0, \n",
      "Test 83: Closest Train sample:400\n",
      "Actual vs Training Label = squat vs squat.Actual vs Closest MCS Score = 3.0 vs 2.0, \n",
      "Test 84: Closest Train sample:128\n",
      "Actual vs Training Label = squat vs right countermovement jump.Actual vs Closest MCS Score = 3.0 vs 1.0, \n",
      "Test 85: Closest Train sample:185\n",
      "Actual vs Training Label = bend and pull vs bend and pull.Actual vs Closest MCS Score = 4.0 vs 3.0, \n",
      "Test 86: Closest Train sample:0\n",
      "Actual vs Training Label = bend and pull full vs countermovement jump.Actual vs Closest MCS Score = 2.0 vs 4.0, \n",
      "Test 87: Closest Train sample:183\n",
      "Actual vs Training Label = bend and pull full vs left countermovement jump.Actual vs Closest MCS Score = 2.0 vs 2.0, \n",
      "Test 88: Closest Train sample:0\n",
      "Actual vs Training Label = bend and pull full vs countermovement jump.Actual vs Closest MCS Score = 2.0 vs 4.0, \n",
      "Test 89: Closest Train sample:380\n",
      "Actual vs Training Label = countermovement jump vs countermovement jump.Actual vs Closest MCS Score = 3.0 vs 2.0, \n",
      "Test 90: Closest Train sample:139\n",
      "Actual vs Training Label = countermovement jump vs squat.Actual vs Closest MCS Score = 3.0 vs 3.0, \n",
      "Test 91: Closest Train sample:115\n",
      "Actual vs Training Label = countermovement jump vs countermovement jump.Actual vs Closest MCS Score = 3.0 vs 2.0, \n",
      "Test 92: Closest Train sample:140\n",
      "Actual vs Training Label = left countermovement jump vs left single leg squat.Actual vs Closest MCS Score = 2.0 vs 2.0, \n",
      "Test 93: Closest Train sample:140\n",
      "Actual vs Training Label = left countermovement jump vs left single leg squat.Actual vs Closest MCS Score = 2.0 vs 2.0, \n",
      "Test 94: Closest Train sample:140\n",
      "Actual vs Training Label = left countermovement jump vs left single leg squat.Actual vs Closest MCS Score = 2.0 vs 2.0, \n",
      "Test 95: Closest Train sample:107\n",
      "Actual vs Training Label = left lunge and twist vs left countermovement jump.Actual vs Closest MCS Score = 3.0 vs 2.0, \n",
      "Test 96: Closest Train sample:109\n",
      "Actual vs Training Label = left lunge and twist full vs left lunge and twist.Actual vs Closest MCS Score = 2.0 vs 4.0, \n",
      "Test 97: Closest Train sample:278\n",
      "Actual vs Training Label = left lunge and twist full vs left lunge and twist full.Actual vs Closest MCS Score = 2.0 vs 2.0, \n",
      "Test 98: Closest Train sample:120\n",
      "Actual vs Training Label = left lunge and twist full vs left lunge and twist.Actual vs Closest MCS Score = 2.0 vs 3.0, \n",
      "Test 99: Closest Train sample:106\n",
      "Actual vs Training Label = left single leg squat vs left countermovement jump.Actual vs Closest MCS Score = 2.0 vs 2.0, \n",
      "Test 100: Closest Train sample:141\n",
      "Actual vs Training Label = left single leg squat vs left single leg squat.Actual vs Closest MCS Score = 2.0 vs 2.0, \n",
      "Test 101: Closest Train sample:140\n",
      "Actual vs Training Label = left single leg squat vs left single leg squat.Actual vs Closest MCS Score = 2.0 vs 2.0, \n",
      "Test 102: Closest Train sample:142\n",
      "Actual vs Training Label = right countermovement jump vs left single leg squat.Actual vs Closest MCS Score = 2.0 vs 2.0, \n",
      "Test 103: Closest Train sample:141\n",
      "Actual vs Training Label = right countermovement jump vs left single leg squat.Actual vs Closest MCS Score = 2.0 vs 2.0, \n",
      "Test 104: Closest Train sample:150\n",
      "Actual vs Training Label = right countermovement jump vs right single leg squat.Actual vs Closest MCS Score = 2.0 vs 2.0, \n",
      "Test 105: Closest Train sample:333\n",
      "Actual vs Training Label = right lunge and twist full vs left lunge and twist.Actual vs Closest MCS Score = 3.0 vs 4.0, \n",
      "Test 106: Closest Train sample:159\n",
      "Actual vs Training Label = right lunge and twist full vs countermovement jump.Actual vs Closest MCS Score = 3.0 vs 3.0, \n",
      "Test 107: Closest Train sample:159\n",
      "Actual vs Training Label = right lunge and twist full vs countermovement jump.Actual vs Closest MCS Score = 3.0 vs 3.0, \n",
      "Test 108: Closest Train sample:1\n",
      "Actual vs Training Label = right single leg squat vs right single leg squat.Actual vs Closest MCS Score = 2.0 vs 2.0, \n",
      "Test 109: Closest Train sample:106\n",
      "Actual vs Training Label = right single leg squat vs left countermovement jump.Actual vs Closest MCS Score = 2.0 vs 2.0, \n",
      "Test 110: Closest Train sample:115\n",
      "Actual vs Training Label = right single leg squat vs countermovement jump.Actual vs Closest MCS Score = 2.0 vs 2.0, \n",
      "Test 111: Closest Train sample:191\n",
      "Actual vs Training Label = squat vs left countermovement jump.Actual vs Closest MCS Score = 4.0 vs 3.0, \n",
      "Test 112: Closest Train sample:46\n",
      "Actual vs Training Label = bend and pull vs bend and pull.Actual vs Closest MCS Score = 1.0 vs 3.0, \n",
      "Test 113: Closest Train sample:104\n",
      "Actual vs Training Label = bend and pull full vs bend and pull full.Actual vs Closest MCS Score = 1.0 vs 4.0, \n",
      "Test 114: Closest Train sample:119\n",
      "Actual vs Training Label = bend and pull full vs left countermovement jump.Actual vs Closest MCS Score = 1.0 vs 1.0, \n",
      "Test 115: Closest Train sample:0\n",
      "Actual vs Training Label = bend and pull full vs countermovement jump.Actual vs Closest MCS Score = 1.0 vs 4.0, \n",
      "Test 116: Closest Train sample:312\n",
      "Actual vs Training Label = countermovement jump vs right countermovement jump.Actual vs Closest MCS Score = 1.0 vs 2.0, \n",
      "Test 117: Closest Train sample:293\n",
      "Actual vs Training Label = countermovement jump vs squat.Actual vs Closest MCS Score = 1.0 vs 3.0, \n",
      "Test 118: Closest Train sample:266\n",
      "Actual vs Training Label = left countermovement jump vs squat.Actual vs Closest MCS Score = 1.0 vs 2.0, \n",
      "Test 119: Closest Train sample:113\n",
      "Actual vs Training Label = left countermovement jump vs countermovement jump.Actual vs Closest MCS Score = 1.0 vs 2.0, \n",
      "Test 120: Closest Train sample:227\n",
      "Actual vs Training Label = left countermovement jump vs left single leg squat.Actual vs Closest MCS Score = 1.0 vs 1.0, \n",
      "Test 121: Closest Train sample:57\n",
      "Actual vs Training Label = left lunge and twist vs left lunge and twist full.Actual vs Closest MCS Score = 1.0 vs 3.0, \n",
      "Test 122: Closest Train sample:27\n",
      "Actual vs Training Label = left lunge and twist full vs left lunge and twist.Actual vs Closest MCS Score = 1.0 vs 2.0, \n",
      "Test 123: Closest Train sample:261\n",
      "Actual vs Training Label = left lunge and twist full vs right lunge and twist full.Actual vs Closest MCS Score = 1.0 vs 3.0, \n",
      "Test 124: Closest Train sample:261\n",
      "Actual vs Training Label = left lunge and twist full vs right lunge and twist full.Actual vs Closest MCS Score = 1.0 vs 3.0, \n",
      "Test 125: Closest Train sample:142\n",
      "Actual vs Training Label = left single leg squat vs left single leg squat.Actual vs Closest MCS Score = 1.0 vs 2.0, \n",
      "Test 126: Closest Train sample:388\n",
      "Actual vs Training Label = left single leg squat vs left single leg squat.Actual vs Closest MCS Score = 1.0 vs 2.0, \n",
      "Test 127: Closest Train sample:388\n",
      "Actual vs Training Label = left single leg squat vs left single leg squat.Actual vs Closest MCS Score = 1.0 vs 2.0, \n",
      "Test 128: Closest Train sample:241\n",
      "Actual vs Training Label = right countermovement jump vs squat.Actual vs Closest MCS Score = 1.0 vs 2.0, \n",
      "Test 129: Closest Train sample:301\n",
      "Actual vs Training Label = right countermovement jump vs countermovement jump.Actual vs Closest MCS Score = 1.0 vs 3.0, \n",
      "Test 130: Closest Train sample:59\n",
      "Actual vs Training Label = right countermovement jump vs left single leg squat.Actual vs Closest MCS Score = 1.0 vs 2.0, \n",
      "Test 131: Closest Train sample:65\n",
      "Actual vs Training Label = right lunge and twist vs right lunge and twist full.Actual vs Closest MCS Score = 1.0 vs 3.0, \n",
      "Test 132: Closest Train sample:280\n",
      "Actual vs Training Label = right lunge and twist full vs left lunge and twist full.Actual vs Closest MCS Score = 1.0 vs 2.0, \n",
      "Test 133: Closest Train sample:261\n",
      "Actual vs Training Label = right lunge and twist full vs right lunge and twist full.Actual vs Closest MCS Score = 1.0 vs 3.0, \n",
      "Test 134: Closest Train sample:264\n",
      "Actual vs Training Label = right single leg squat vs right single leg squat.Actual vs Closest MCS Score = 1.0 vs 2.0, \n",
      "Test 135: Closest Train sample:201\n",
      "Actual vs Training Label = squat vs left single leg squat.Actual vs Closest MCS Score = 2.0 vs 3.0, \n",
      "Test 136: Closest Train sample:201\n",
      "Actual vs Training Label = squat vs left single leg squat.Actual vs Closest MCS Score = 2.0 vs 3.0, \n",
      "Test 137: Closest Train sample:301\n",
      "Actual vs Training Label = squat vs countermovement jump.Actual vs Closest MCS Score = 2.0 vs 3.0, \n",
      "Test 138: Closest Train sample:208\n",
      "Actual vs Training Label = right countermovement jump vs right single leg squat.Actual vs Closest MCS Score = 3.0 vs 3.0, \n",
      "Test 139: Closest Train sample:170\n",
      "Actual vs Training Label = right lunge and twist vs right lunge and twist.Actual vs Closest MCS Score = 4.0 vs 4.0, \n",
      "Test 140: Closest Train sample:131\n",
      "Actual vs Training Label = right lunge and twist full vs right lunge and twist full.Actual vs Closest MCS Score = 4.0 vs 3.0, \n",
      "Test 141: Closest Train sample:131\n",
      "Actual vs Training Label = right lunge and twist full vs right lunge and twist full.Actual vs Closest MCS Score = 4.0 vs 3.0, \n",
      "Test 142: Closest Train sample:149\n",
      "Actual vs Training Label = right lunge and twist full vs right lunge and twist full.Actual vs Closest MCS Score = 4.0 vs 4.0, \n",
      "Test 143: Closest Train sample:397\n",
      "Actual vs Training Label = right single leg squat vs right single leg squat.Actual vs Closest MCS Score = 4.0 vs 2.0, \n",
      "Test 144: Closest Train sample:68\n",
      "Actual vs Training Label = right single leg squat vs right single leg squat.Actual vs Closest MCS Score = 4.0 vs 2.0, \n",
      "Test 145: Closest Train sample:68\n",
      "Actual vs Training Label = right single leg squat vs right single leg squat.Actual vs Closest MCS Score = 4.0 vs 2.0, \n",
      "Test 146: Closest Train sample:208\n",
      "Actual vs Training Label = squat vs right single leg squat.Actual vs Closest MCS Score = 4.0 vs 3.0, \n",
      "Test 147: Closest Train sample:322\n",
      "Actual vs Training Label = squat vs squat.Actual vs Closest MCS Score = 4.0 vs 4.0, \n",
      "Test 148: Closest Train sample:322\n",
      "Actual vs Training Label = squat vs squat.Actual vs Closest MCS Score = 4.0 vs 4.0, \n",
      "Test 149: Closest Train sample:270\n",
      "Actual vs Training Label = bend and pull vs bend and pull full.Actual vs Closest MCS Score = 1.0 vs 1.0, \n",
      "Test 150: Closest Train sample:72\n",
      "Actual vs Training Label = bend and pull full vs bend and pull.Actual vs Closest MCS Score = 1.0 vs 2.0, \n",
      "Test 151: Closest Train sample:327\n",
      "Actual vs Training Label = bend and pull full vs bend and pull full.Actual vs Closest MCS Score = 1.0 vs 3.0, \n",
      "Test 152: Closest Train sample:203\n",
      "Actual vs Training Label = countermovement jump vs right countermovement jump.Actual vs Closest MCS Score = 2.0 vs 3.0, \n",
      "Test 153: Closest Train sample:201\n",
      "Actual vs Training Label = countermovement jump vs left single leg squat.Actual vs Closest MCS Score = 2.0 vs 3.0, \n",
      "Test 154: Closest Train sample:50\n",
      "Actual vs Training Label = countermovement jump vs countermovement jump.Actual vs Closest MCS Score = 2.0 vs 3.0, \n",
      "Test 155: Closest Train sample:382\n",
      "Actual vs Training Label = left countermovement jump vs left countermovement jump.Actual vs Closest MCS Score = 1.0 vs 1.0, \n",
      "Test 156: Closest Train sample:391\n",
      "Actual vs Training Label = left countermovement jump vs right countermovement jump.Actual vs Closest MCS Score = 1.0 vs 1.0, \n",
      "Test 157: Closest Train sample:392\n",
      "Actual vs Training Label = left countermovement jump vs right countermovement jump.Actual vs Closest MCS Score = 1.0 vs 1.0, \n",
      "Test 158: Closest Train sample:372\n",
      "Actual vs Training Label = left lunge and twist vs right single leg squat.Actual vs Closest MCS Score = 3.0 vs 2.0, \n",
      "Test 159: Closest Train sample:62\n",
      "Actual vs Training Label = left lunge and twist full vs right lunge and twist.Actual vs Closest MCS Score = 2.0 vs 3.0, \n",
      "Test 160: Closest Train sample:56\n",
      "Actual vs Training Label = left lunge and twist full vs left lunge and twist full.Actual vs Closest MCS Score = 2.0 vs 3.0, \n",
      "Test 161: Closest Train sample:56\n",
      "Actual vs Training Label = left lunge and twist full vs left lunge and twist full.Actual vs Closest MCS Score = 2.0 vs 3.0, \n",
      "Test 162: Closest Train sample:227\n",
      "Actual vs Training Label = left single leg squat vs left single leg squat.Actual vs Closest MCS Score = 2.0 vs 1.0, \n",
      "Test 163: Closest Train sample:191\n",
      "Actual vs Training Label = right countermovement jump vs left countermovement jump.Actual vs Closest MCS Score = 1.0 vs 3.0, \n",
      "Test 164: Closest Train sample:208\n",
      "Actual vs Training Label = right countermovement jump vs right single leg squat.Actual vs Closest MCS Score = 1.0 vs 3.0, \n",
      "Test 165: Closest Train sample:380\n",
      "Actual vs Training Label = right countermovement jump vs countermovement jump.Actual vs Closest MCS Score = 1.0 vs 2.0, \n",
      "Test 166: Closest Train sample:263\n",
      "Actual vs Training Label = right lunge and twist full vs right lunge and twist full.Actual vs Closest MCS Score = 3.0 vs 3.0, \n",
      "Test 167: Closest Train sample:148\n",
      "Actual vs Training Label = right lunge and twist full vs right lunge and twist full.Actual vs Closest MCS Score = 3.0 vs 4.0, \n",
      "Test 168: Closest Train sample:358\n",
      "Actual vs Training Label = right lunge and twist full vs right lunge and twist full.Actual vs Closest MCS Score = 3.0 vs 3.0, \n",
      "Test 169: Closest Train sample:208\n",
      "Actual vs Training Label = right single leg squat vs right single leg squat.Actual vs Closest MCS Score = 2.0 vs 3.0, \n",
      "Test 170: Closest Train sample:399\n",
      "Actual vs Training Label = right single leg squat vs right single leg squat.Actual vs Closest MCS Score = 2.0 vs 2.0, \n",
      "Test 171: Closest Train sample:320\n",
      "Actual vs Training Label = right single leg squat vs right single leg squat.Actual vs Closest MCS Score = 2.0 vs 2.0, \n",
      "Test 172: Closest Train sample:208\n",
      "Actual vs Training Label = squat vs right single leg squat.Actual vs Closest MCS Score = 2.0 vs 3.0, \n",
      "Test 173: Closest Train sample:380\n",
      "Actual vs Training Label = squat vs countermovement jump.Actual vs Closest MCS Score = 2.0 vs 2.0, \n",
      "Test 174: Closest Train sample:138\n",
      "Actual vs Training Label = squat vs squat.Actual vs Closest MCS Score = 2.0 vs 3.0, \n"
     ]
    }
   ],
   "source": [
    "from scipy.spatial import distance\n",
    "# Find closest training points for test embeddings\n",
    "def find_closest_training_point(test_emb, test_labels, test_mcs_scores, train_embeddings, train_labels, train_mcs_scores, test_start_points, train_start_points):\n",
    "    closest_points = []\n",
    "    for i, emb in enumerate(test_emb):\n",
    "        dists = distance.cdist([emb], train_embeddings, 'euclidean')[0]\n",
    "        min_idx = np.argmin(dists)\n",
    "        closest_points.append((train_labels[min_idx], train_mcs_scores[min_idx]))\n",
    "        # print(f\"Test {i}: Closest Train sample:{min_idx} Actual vs Training Label = {test_labels[i]} vs {train_labels[min_idx]}, , \"\n",
    "        #       f\"Actual vs Closest MCS Score = {test_mcs_scores[i]} vs {train_mcs_scores[min_idx]}, \"\n",
    "        #       # f\"Actual Start point = {test_start_points[i]}, Training start point = {train_start_points[min_idx]}\"\n",
    "        # )\n",
    "        print(f\"Test {i}: Closest Train sample:{min_idx}\\nActual vs Training Label = {desc_to_action[test_labels[i]]} vs {desc_to_action[train_labels[min_idx]]}.\"\n",
    "              f\"Actual vs Closest MCS Score = {test_mcs_scores[i]} vs {train_mcs_scores[min_idx]}, \"\n",
    "              # f\"Actual Start point = {test_start_points[i]}, Training start point = {train_start_points[min_idx]}\"\n",
    "        )\n",
    "    return closest_points\n",
    "\n",
    "closest_training_points = find_closest_training_point(test_embeddings, test_labels, test_mcs_scores, train_embeddings, train_labels, train_mcs_scores,test_start_points, train_start_points)"
   ]
  },
  {
   "cell_type": "markdown",
   "metadata": {},
   "source": [
    "# Data Distribution"
   ]
  },
  {
   "cell_type": "code",
   "execution_count": 49,
   "metadata": {},
   "outputs": [
    {
     "data": {
      "application/vnd.plotly.v1+json": {
       "config": {
        "plotlyServerURL": "https://plot.ly"
       },
       "data": [
        {
         "name": "MCS:1",
         "type": "bar",
         "x": [
          "bend and pull fast",
          "countermovement jump",
          "left countermovement jump",
          "left lunge and twist",
          "left lunge and twist fast",
          "right countermovement jump",
          "right lunge and twist",
          "right lunge and twist fast",
          "right single leg squat",
          "squat",
          "bend and pull",
          "left single leg squat",
          "push up"
         ],
         "y": [
          13,
          3,
          27,
          1,
          3,
          24,
          1,
          3,
          7,
          0,
          4,
          15,
          0
         ]
        },
        {
         "name": "MCS:2",
         "type": "bar",
         "x": [
          "bend and pull fast",
          "countermovement jump",
          "left countermovement jump",
          "left lunge and twist",
          "left lunge and twist fast",
          "right countermovement jump",
          "right lunge and twist",
          "right lunge and twist fast",
          "right single leg squat",
          "squat",
          "bend and pull",
          "left single leg squat",
          "push up"
         ],
         "y": [
          21,
          21,
          22,
          3,
          12,
          20,
          1,
          3,
          42,
          15,
          6,
          30,
          2
         ]
        },
        {
         "name": "MCS:3",
         "type": "bar",
         "x": [
          "bend and pull fast",
          "countermovement jump",
          "left countermovement jump",
          "left lunge and twist",
          "left lunge and twist fast",
          "right countermovement jump",
          "right lunge and twist",
          "right lunge and twist fast",
          "right single leg squat",
          "squat",
          "bend and pull",
          "left single leg squat",
          "push up"
         ],
         "y": [
          18,
          30,
          6,
          11,
          30,
          6,
          10,
          34,
          3,
          27,
          8,
          3,
          4
         ]
        },
        {
         "name": "MCS:4",
         "type": "bar",
         "x": [
          "bend and pull fast",
          "countermovement jump",
          "left countermovement jump",
          "left lunge and twist",
          "left lunge and twist fast",
          "right countermovement jump",
          "right lunge and twist",
          "right lunge and twist fast",
          "right single leg squat",
          "squat",
          "bend and pull",
          "left single leg squat",
          "push up"
         ],
         "y": [
          6,
          4,
          3,
          6,
          15,
          3,
          6,
          18,
          6,
          16,
          2,
          4,
          4
         ]
        }
       ],
       "layout": {
        "autosize": true,
        "barmode": "stack",
        "font": {
         "color": "Black",
         "family": "Times New Roman",
         "size": 13
        },
        "legend": {
         "title": {
          "text": "MCS score"
         }
        },
        "template": {
         "data": {
          "bar": [
           {
            "error_x": {
             "color": "#2a3f5f"
            },
            "error_y": {
             "color": "#2a3f5f"
            },
            "marker": {
             "line": {
              "color": "#E5ECF6",
              "width": 0.5
             },
             "pattern": {
              "fillmode": "overlay",
              "size": 10,
              "solidity": 0.2
             }
            },
            "type": "bar"
           }
          ],
          "barpolar": [
           {
            "marker": {
             "line": {
              "color": "#E5ECF6",
              "width": 0.5
             },
             "pattern": {
              "fillmode": "overlay",
              "size": 10,
              "solidity": 0.2
             }
            },
            "type": "barpolar"
           }
          ],
          "carpet": [
           {
            "aaxis": {
             "endlinecolor": "#2a3f5f",
             "gridcolor": "white",
             "linecolor": "white",
             "minorgridcolor": "white",
             "startlinecolor": "#2a3f5f"
            },
            "baxis": {
             "endlinecolor": "#2a3f5f",
             "gridcolor": "white",
             "linecolor": "white",
             "minorgridcolor": "white",
             "startlinecolor": "#2a3f5f"
            },
            "type": "carpet"
           }
          ],
          "choropleth": [
           {
            "colorbar": {
             "outlinewidth": 0,
             "ticks": ""
            },
            "type": "choropleth"
           }
          ],
          "contour": [
           {
            "colorbar": {
             "outlinewidth": 0,
             "ticks": ""
            },
            "colorscale": [
             [
              0,
              "#0d0887"
             ],
             [
              0.1111111111111111,
              "#46039f"
             ],
             [
              0.2222222222222222,
              "#7201a8"
             ],
             [
              0.3333333333333333,
              "#9c179e"
             ],
             [
              0.4444444444444444,
              "#bd3786"
             ],
             [
              0.5555555555555556,
              "#d8576b"
             ],
             [
              0.6666666666666666,
              "#ed7953"
             ],
             [
              0.7777777777777778,
              "#fb9f3a"
             ],
             [
              0.8888888888888888,
              "#fdca26"
             ],
             [
              1,
              "#f0f921"
             ]
            ],
            "type": "contour"
           }
          ],
          "contourcarpet": [
           {
            "colorbar": {
             "outlinewidth": 0,
             "ticks": ""
            },
            "type": "contourcarpet"
           }
          ],
          "heatmap": [
           {
            "colorbar": {
             "outlinewidth": 0,
             "ticks": ""
            },
            "colorscale": [
             [
              0,
              "#0d0887"
             ],
             [
              0.1111111111111111,
              "#46039f"
             ],
             [
              0.2222222222222222,
              "#7201a8"
             ],
             [
              0.3333333333333333,
              "#9c179e"
             ],
             [
              0.4444444444444444,
              "#bd3786"
             ],
             [
              0.5555555555555556,
              "#d8576b"
             ],
             [
              0.6666666666666666,
              "#ed7953"
             ],
             [
              0.7777777777777778,
              "#fb9f3a"
             ],
             [
              0.8888888888888888,
              "#fdca26"
             ],
             [
              1,
              "#f0f921"
             ]
            ],
            "type": "heatmap"
           }
          ],
          "heatmapgl": [
           {
            "colorbar": {
             "outlinewidth": 0,
             "ticks": ""
            },
            "colorscale": [
             [
              0,
              "#0d0887"
             ],
             [
              0.1111111111111111,
              "#46039f"
             ],
             [
              0.2222222222222222,
              "#7201a8"
             ],
             [
              0.3333333333333333,
              "#9c179e"
             ],
             [
              0.4444444444444444,
              "#bd3786"
             ],
             [
              0.5555555555555556,
              "#d8576b"
             ],
             [
              0.6666666666666666,
              "#ed7953"
             ],
             [
              0.7777777777777778,
              "#fb9f3a"
             ],
             [
              0.8888888888888888,
              "#fdca26"
             ],
             [
              1,
              "#f0f921"
             ]
            ],
            "type": "heatmapgl"
           }
          ],
          "histogram": [
           {
            "marker": {
             "pattern": {
              "fillmode": "overlay",
              "size": 10,
              "solidity": 0.2
             }
            },
            "type": "histogram"
           }
          ],
          "histogram2d": [
           {
            "colorbar": {
             "outlinewidth": 0,
             "ticks": ""
            },
            "colorscale": [
             [
              0,
              "#0d0887"
             ],
             [
              0.1111111111111111,
              "#46039f"
             ],
             [
              0.2222222222222222,
              "#7201a8"
             ],
             [
              0.3333333333333333,
              "#9c179e"
             ],
             [
              0.4444444444444444,
              "#bd3786"
             ],
             [
              0.5555555555555556,
              "#d8576b"
             ],
             [
              0.6666666666666666,
              "#ed7953"
             ],
             [
              0.7777777777777778,
              "#fb9f3a"
             ],
             [
              0.8888888888888888,
              "#fdca26"
             ],
             [
              1,
              "#f0f921"
             ]
            ],
            "type": "histogram2d"
           }
          ],
          "histogram2dcontour": [
           {
            "colorbar": {
             "outlinewidth": 0,
             "ticks": ""
            },
            "colorscale": [
             [
              0,
              "#0d0887"
             ],
             [
              0.1111111111111111,
              "#46039f"
             ],
             [
              0.2222222222222222,
              "#7201a8"
             ],
             [
              0.3333333333333333,
              "#9c179e"
             ],
             [
              0.4444444444444444,
              "#bd3786"
             ],
             [
              0.5555555555555556,
              "#d8576b"
             ],
             [
              0.6666666666666666,
              "#ed7953"
             ],
             [
              0.7777777777777778,
              "#fb9f3a"
             ],
             [
              0.8888888888888888,
              "#fdca26"
             ],
             [
              1,
              "#f0f921"
             ]
            ],
            "type": "histogram2dcontour"
           }
          ],
          "mesh3d": [
           {
            "colorbar": {
             "outlinewidth": 0,
             "ticks": ""
            },
            "type": "mesh3d"
           }
          ],
          "parcoords": [
           {
            "line": {
             "colorbar": {
              "outlinewidth": 0,
              "ticks": ""
             }
            },
            "type": "parcoords"
           }
          ],
          "pie": [
           {
            "automargin": true,
            "type": "pie"
           }
          ],
          "scatter": [
           {
            "fillpattern": {
             "fillmode": "overlay",
             "size": 10,
             "solidity": 0.2
            },
            "type": "scatter"
           }
          ],
          "scatter3d": [
           {
            "line": {
             "colorbar": {
              "outlinewidth": 0,
              "ticks": ""
             }
            },
            "marker": {
             "colorbar": {
              "outlinewidth": 0,
              "ticks": ""
             }
            },
            "type": "scatter3d"
           }
          ],
          "scattercarpet": [
           {
            "marker": {
             "colorbar": {
              "outlinewidth": 0,
              "ticks": ""
             }
            },
            "type": "scattercarpet"
           }
          ],
          "scattergeo": [
           {
            "marker": {
             "colorbar": {
              "outlinewidth": 0,
              "ticks": ""
             }
            },
            "type": "scattergeo"
           }
          ],
          "scattergl": [
           {
            "marker": {
             "colorbar": {
              "outlinewidth": 0,
              "ticks": ""
             }
            },
            "type": "scattergl"
           }
          ],
          "scattermapbox": [
           {
            "marker": {
             "colorbar": {
              "outlinewidth": 0,
              "ticks": ""
             }
            },
            "type": "scattermapbox"
           }
          ],
          "scatterpolar": [
           {
            "marker": {
             "colorbar": {
              "outlinewidth": 0,
              "ticks": ""
             }
            },
            "type": "scatterpolar"
           }
          ],
          "scatterpolargl": [
           {
            "marker": {
             "colorbar": {
              "outlinewidth": 0,
              "ticks": ""
             }
            },
            "type": "scatterpolargl"
           }
          ],
          "scatterternary": [
           {
            "marker": {
             "colorbar": {
              "outlinewidth": 0,
              "ticks": ""
             }
            },
            "type": "scatterternary"
           }
          ],
          "surface": [
           {
            "colorbar": {
             "outlinewidth": 0,
             "ticks": ""
            },
            "colorscale": [
             [
              0,
              "#0d0887"
             ],
             [
              0.1111111111111111,
              "#46039f"
             ],
             [
              0.2222222222222222,
              "#7201a8"
             ],
             [
              0.3333333333333333,
              "#9c179e"
             ],
             [
              0.4444444444444444,
              "#bd3786"
             ],
             [
              0.5555555555555556,
              "#d8576b"
             ],
             [
              0.6666666666666666,
              "#ed7953"
             ],
             [
              0.7777777777777778,
              "#fb9f3a"
             ],
             [
              0.8888888888888888,
              "#fdca26"
             ],
             [
              1,
              "#f0f921"
             ]
            ],
            "type": "surface"
           }
          ],
          "table": [
           {
            "cells": {
             "fill": {
              "color": "#EBF0F8"
             },
             "line": {
              "color": "white"
             }
            },
            "header": {
             "fill": {
              "color": "#C8D4E3"
             },
             "line": {
              "color": "white"
             }
            },
            "type": "table"
           }
          ]
         },
         "layout": {
          "annotationdefaults": {
           "arrowcolor": "#2a3f5f",
           "arrowhead": 0,
           "arrowwidth": 1
          },
          "autotypenumbers": "strict",
          "coloraxis": {
           "colorbar": {
            "outlinewidth": 0,
            "ticks": ""
           }
          },
          "colorscale": {
           "diverging": [
            [
             0,
             "#8e0152"
            ],
            [
             0.1,
             "#c51b7d"
            ],
            [
             0.2,
             "#de77ae"
            ],
            [
             0.3,
             "#f1b6da"
            ],
            [
             0.4,
             "#fde0ef"
            ],
            [
             0.5,
             "#f7f7f7"
            ],
            [
             0.6,
             "#e6f5d0"
            ],
            [
             0.7,
             "#b8e186"
            ],
            [
             0.8,
             "#7fbc41"
            ],
            [
             0.9,
             "#4d9221"
            ],
            [
             1,
             "#276419"
            ]
           ],
           "sequential": [
            [
             0,
             "#0d0887"
            ],
            [
             0.1111111111111111,
             "#46039f"
            ],
            [
             0.2222222222222222,
             "#7201a8"
            ],
            [
             0.3333333333333333,
             "#9c179e"
            ],
            [
             0.4444444444444444,
             "#bd3786"
            ],
            [
             0.5555555555555556,
             "#d8576b"
            ],
            [
             0.6666666666666666,
             "#ed7953"
            ],
            [
             0.7777777777777778,
             "#fb9f3a"
            ],
            [
             0.8888888888888888,
             "#fdca26"
            ],
            [
             1,
             "#f0f921"
            ]
           ],
           "sequentialminus": [
            [
             0,
             "#0d0887"
            ],
            [
             0.1111111111111111,
             "#46039f"
            ],
            [
             0.2222222222222222,
             "#7201a8"
            ],
            [
             0.3333333333333333,
             "#9c179e"
            ],
            [
             0.4444444444444444,
             "#bd3786"
            ],
            [
             0.5555555555555556,
             "#d8576b"
            ],
            [
             0.6666666666666666,
             "#ed7953"
            ],
            [
             0.7777777777777778,
             "#fb9f3a"
            ],
            [
             0.8888888888888888,
             "#fdca26"
            ],
            [
             1,
             "#f0f921"
            ]
           ]
          },
          "colorway": [
           "#636efa",
           "#EF553B",
           "#00cc96",
           "#ab63fa",
           "#FFA15A",
           "#19d3f3",
           "#FF6692",
           "#B6E880",
           "#FF97FF",
           "#FECB52"
          ],
          "font": {
           "color": "#2a3f5f"
          },
          "geo": {
           "bgcolor": "white",
           "lakecolor": "white",
           "landcolor": "#E5ECF6",
           "showlakes": true,
           "showland": true,
           "subunitcolor": "white"
          },
          "hoverlabel": {
           "align": "left"
          },
          "hovermode": "closest",
          "mapbox": {
           "style": "light"
          },
          "paper_bgcolor": "white",
          "plot_bgcolor": "#E5ECF6",
          "polar": {
           "angularaxis": {
            "gridcolor": "white",
            "linecolor": "white",
            "ticks": ""
           },
           "bgcolor": "#E5ECF6",
           "radialaxis": {
            "gridcolor": "white",
            "linecolor": "white",
            "ticks": ""
           }
          },
          "scene": {
           "xaxis": {
            "backgroundcolor": "#E5ECF6",
            "gridcolor": "white",
            "gridwidth": 2,
            "linecolor": "white",
            "showbackground": true,
            "ticks": "",
            "zerolinecolor": "white"
           },
           "yaxis": {
            "backgroundcolor": "#E5ECF6",
            "gridcolor": "white",
            "gridwidth": 2,
            "linecolor": "white",
            "showbackground": true,
            "ticks": "",
            "zerolinecolor": "white"
           },
           "zaxis": {
            "backgroundcolor": "#E5ECF6",
            "gridcolor": "white",
            "gridwidth": 2,
            "linecolor": "white",
            "showbackground": true,
            "ticks": "",
            "zerolinecolor": "white"
           }
          },
          "shapedefaults": {
           "line": {
            "color": "#2a3f5f"
           }
          },
          "ternary": {
           "aaxis": {
            "gridcolor": "white",
            "linecolor": "white",
            "ticks": ""
           },
           "baxis": {
            "gridcolor": "white",
            "linecolor": "white",
            "ticks": ""
           },
           "bgcolor": "#E5ECF6",
           "caxis": {
            "gridcolor": "white",
            "linecolor": "white",
            "ticks": ""
           }
          },
          "title": {
           "x": 0.05
          },
          "xaxis": {
           "automargin": true,
           "gridcolor": "white",
           "linecolor": "white",
           "ticks": "",
           "title": {
            "standoff": 15
           },
           "zerolinecolor": "white",
           "zerolinewidth": 2
          },
          "yaxis": {
           "automargin": true,
           "gridcolor": "white",
           "linecolor": "white",
           "ticks": "",
           "title": {
            "standoff": 15
           },
           "zerolinecolor": "white",
           "zerolinewidth": 2
          }
         }
        },
        "title": {
         "text": "MCS score distribution across exercises"
        },
        "xaxis": {
         "autorange": true,
         "range": [
          -0.5,
          12.5
         ],
         "title": {
          "text": "Exercise"
         },
         "type": "category"
        },
        "yaxis": {
         "autorange": true,
         "range": [
          0,
          63.1578947368421
         ],
         "title": {
          "text": "Total number of Samples"
         },
         "type": "linear"
        }
       }
      },
      "image/png": "[encoded data removed]",
      "text/html": [
       "<div>                            <div id=\"dd8190aa-1503-4796-8d2e-6153b41fcae2\" class=\"plotly-graph-div\" style=\"height:525px; width:100%;\"></div>            <script type=\"text/javascript\">                require([\"plotly\"], function(Plotly) {                    window.PLOTLYENV=window.PLOTLYENV || {};                                    if (document.getElementById(\"dd8190aa-1503-4796-8d2e-6153b41fcae2\")) {                    Plotly.newPlot(                        \"dd8190aa-1503-4796-8d2e-6153b41fcae2\",                        [{\"name\":\"MCS:1\",\"x\":[\"bend and pull fast\",\"countermovement jump\",\"left countermovement jump\",\"left lunge and twist\",\"left lunge and twist fast\",\"right countermovement jump\",\"right lunge and twist\",\"right lunge and twist fast\",\"right single leg squat\",\"squat\",\"bend and pull\",\"left single leg squat\",\"push up\"],\"y\":[13,3,27,1,3,24,1,3,7,0,4,15,0],\"type\":\"bar\"},{\"name\":\"MCS:2\",\"x\":[\"bend and pull fast\",\"countermovement jump\",\"left countermovement jump\",\"left lunge and twist\",\"left lunge and twist fast\",\"right countermovement jump\",\"right lunge and twist\",\"right lunge and twist fast\",\"right single leg squat\",\"squat\",\"bend and pull\",\"left single leg squat\",\"push up\"],\"y\":[21,21,22,3,12,20,1,3,42,15,6,30,2],\"type\":\"bar\"},{\"name\":\"MCS:3\",\"x\":[\"bend and pull fast\",\"countermovement jump\",\"left countermovement jump\",\"left lunge and twist\",\"left lunge and twist fast\",\"right countermovement jump\",\"right lunge and twist\",\"right lunge and twist fast\",\"right single leg squat\",\"squat\",\"bend and pull\",\"left single leg squat\",\"push up\"],\"y\":[18,30,6,11,30,6,10,34,3,27,8,3,4],\"type\":\"bar\"},{\"name\":\"MCS:4\",\"x\":[\"bend and pull fast\",\"countermovement jump\",\"left countermovement jump\",\"left lunge and twist\",\"left lunge and twist fast\",\"right countermovement jump\",\"right lunge and twist\",\"right lunge and twist fast\",\"right single leg squat\",\"squat\",\"bend and pull\",\"left single leg squat\",\"push up\"],\"y\":[6,4,3,6,15,3,6,18,6,16,2,4,4],\"type\":\"bar\"}],                        {\"template\":{\"data\":{\"histogram2dcontour\":[{\"type\":\"histogram2dcontour\",\"colorbar\":{\"outlinewidth\":0,\"ticks\":\"\"},\"colorscale\":[[0.0,\"#0d0887\"],[0.1111111111111111,\"#46039f\"],[0.2222222222222222,\"#7201a8\"],[0.3333333333333333,\"#9c179e\"],[0.4444444444444444,\"#bd3786\"],[0.5555555555555556,\"#d8576b\"],[0.6666666666666666,\"#ed7953\"],[0.7777777777777778,\"#fb9f3a\"],[0.8888888888888888,\"#fdca26\"],[1.0,\"#f0f921\"]]}],\"choropleth\":[{\"type\":\"choropleth\",\"colorbar\":{\"outlinewidth\":0,\"ticks\":\"\"}}],\"histogram2d\":[{\"type\":\"histogram2d\",\"colorbar\":{\"outlinewidth\":0,\"ticks\":\"\"},\"colorscale\":[[0.0,\"#0d0887\"],[0.1111111111111111,\"#46039f\"],[0.2222222222222222,\"#7201a8\"],[0.3333333333333333,\"#9c179e\"],[0.4444444444444444,\"#bd3786\"],[0.5555555555555556,\"#d8576b\"],[0.6666666666666666,\"#ed7953\"],[0.7777777777777778,\"#fb9f3a\"],[0.8888888888888888,\"#fdca26\"],[1.0,\"#f0f921\"]]}],\"heatmap\":[{\"type\":\"heatmap\",\"colorbar\":{\"outlinewidth\":0,\"ticks\":\"\"},\"colorscale\":[[0.0,\"#0d0887\"],[0.1111111111111111,\"#46039f\"],[0.2222222222222222,\"#7201a8\"],[0.3333333333333333,\"#9c179e\"],[0.4444444444444444,\"#bd3786\"],[0.5555555555555556,\"#d8576b\"],[0.6666666666666666,\"#ed7953\"],[0.7777777777777778,\"#fb9f3a\"],[0.8888888888888888,\"#fdca26\"],[1.0,\"#f0f921\"]]}],\"heatmapgl\":[{\"type\":\"heatmapgl\",\"colorbar\":{\"outlinewidth\":0,\"ticks\":\"\"},\"colorscale\":[[0.0,\"#0d0887\"],[0.1111111111111111,\"#46039f\"],[0.2222222222222222,\"#7201a8\"],[0.3333333333333333,\"#9c179e\"],[0.4444444444444444,\"#bd3786\"],[0.5555555555555556,\"#d8576b\"],[0.6666666666666666,\"#ed7953\"],[0.7777777777777778,\"#fb9f3a\"],[0.8888888888888888,\"#fdca26\"],[1.0,\"#f0f921\"]]}],\"contourcarpet\":[{\"type\":\"contourcarpet\",\"colorbar\":{\"outlinewidth\":0,\"ticks\":\"\"}}],\"contour\":[{\"type\":\"contour\",\"colorbar\":{\"outlinewidth\":0,\"ticks\":\"\"},\"colorscale\":[[0.0,\"#0d0887\"],[0.1111111111111111,\"#46039f\"],[0.2222222222222222,\"#7201a8\"],[0.3333333333333333,\"#9c179e\"],[0.4444444444444444,\"#bd3786\"],[0.5555555555555556,\"#d8576b\"],[0.6666666666666666,\"#ed7953\"],[0.7777777777777778,\"#fb9f3a\"],[0.8888888888888888,\"#fdca26\"],[1.0,\"#f0f921\"]]}],\"surface\":[{\"type\":\"surface\",\"colorbar\":{\"outlinewidth\":0,\"ticks\":\"\"},\"colorscale\":[[0.0,\"#0d0887\"],[0.1111111111111111,\"#46039f\"],[0.2222222222222222,\"#7201a8\"],[0.3333333333333333,\"#9c179e\"],[0.4444444444444444,\"#bd3786\"],[0.5555555555555556,\"#d8576b\"],[0.6666666666666666,\"#ed7953\"],[0.7777777777777778,\"#fb9f3a\"],[0.8888888888888888,\"#fdca26\"],[1.0,\"#f0f921\"]]}],\"mesh3d\":[{\"type\":\"mesh3d\",\"colorbar\":{\"outlinewidth\":0,\"ticks\":\"\"}}],\"scatter\":[{\"fillpattern\":{\"fillmode\":\"overlay\",\"size\":10,\"solidity\":0.2},\"type\":\"scatter\"}],\"parcoords\":[{\"type\":\"parcoords\",\"line\":{\"colorbar\":{\"outlinewidth\":0,\"ticks\":\"\"}}}],\"scatterpolargl\":[{\"type\":\"scatterpolargl\",\"marker\":{\"colorbar\":{\"outlinewidth\":0,\"ticks\":\"\"}}}],\"bar\":[{\"error_x\":{\"color\":\"#2a3f5f\"},\"error_y\":{\"color\":\"#2a3f5f\"},\"marker\":{\"line\":{\"color\":\"#E5ECF6\",\"width\":0.5},\"pattern\":{\"fillmode\":\"overlay\",\"size\":10,\"solidity\":0.2}},\"type\":\"bar\"}],\"scattergeo\":[{\"type\":\"scattergeo\",\"marker\":{\"colorbar\":{\"outlinewidth\":0,\"ticks\":\"\"}}}],\"scatterpolar\":[{\"type\":\"scatterpolar\",\"marker\":{\"colorbar\":{\"outlinewidth\":0,\"ticks\":\"\"}}}],\"histogram\":[{\"marker\":{\"pattern\":{\"fillmode\":\"overlay\",\"size\":10,\"solidity\":0.2}},\"type\":\"histogram\"}],\"scattergl\":[{\"type\":\"scattergl\",\"marker\":{\"colorbar\":{\"outlinewidth\":0,\"ticks\":\"\"}}}],\"scatter3d\":[{\"type\":\"scatter3d\",\"line\":{\"colorbar\":{\"outlinewidth\":0,\"ticks\":\"\"}},\"marker\":{\"colorbar\":{\"outlinewidth\":0,\"ticks\":\"\"}}}],\"scattermapbox\":[{\"type\":\"scattermapbox\",\"marker\":{\"colorbar\":{\"outlinewidth\":0,\"ticks\":\"\"}}}],\"scatterternary\":[{\"type\":\"scatterternary\",\"marker\":{\"colorbar\":{\"outlinewidth\":0,\"ticks\":\"\"}}}],\"scattercarpet\":[{\"type\":\"scattercarpet\",\"marker\":{\"colorbar\":{\"outlinewidth\":0,\"ticks\":\"\"}}}],\"carpet\":[{\"aaxis\":{\"endlinecolor\":\"#2a3f5f\",\"gridcolor\":\"white\",\"linecolor\":\"white\",\"minorgridcolor\":\"white\",\"startlinecolor\":\"#2a3f5f\"},\"baxis\":{\"endlinecolor\":\"#2a3f5f\",\"gridcolor\":\"white\",\"linecolor\":\"white\",\"minorgridcolor\":\"white\",\"startlinecolor\":\"#2a3f5f\"},\"type\":\"carpet\"}],\"table\":[{\"cells\":{\"fill\":{\"color\":\"#EBF0F8\"},\"line\":{\"color\":\"white\"}},\"header\":{\"fill\":{\"color\":\"#C8D4E3\"},\"line\":{\"color\":\"white\"}},\"type\":\"table\"}],\"barpolar\":[{\"marker\":{\"line\":{\"color\":\"#E5ECF6\",\"width\":0.5},\"pattern\":{\"fillmode\":\"overlay\",\"size\":10,\"solidity\":0.2}},\"type\":\"barpolar\"}],\"pie\":[{\"automargin\":true,\"type\":\"pie\"}]},\"layout\":{\"autotypenumbers\":\"strict\",\"colorway\":[\"#636efa\",\"#EF553B\",\"#00cc96\",\"#ab63fa\",\"#FFA15A\",\"#19d3f3\",\"#FF6692\",\"#B6E880\",\"#FF97FF\",\"#FECB52\"],\"font\":{\"color\":\"#2a3f5f\"},\"hovermode\":\"closest\",\"hoverlabel\":{\"align\":\"left\"},\"paper_bgcolor\":\"white\",\"plot_bgcolor\":\"#E5ECF6\",\"polar\":{\"bgcolor\":\"#E5ECF6\",\"angularaxis\":{\"gridcolor\":\"white\",\"linecolor\":\"white\",\"ticks\":\"\"},\"radialaxis\":{\"gridcolor\":\"white\",\"linecolor\":\"white\",\"ticks\":\"\"}},\"ternary\":{\"bgcolor\":\"#E5ECF6\",\"aaxis\":{\"gridcolor\":\"white\",\"linecolor\":\"white\",\"ticks\":\"\"},\"baxis\":{\"gridcolor\":\"white\",\"linecolor\":\"white\",\"ticks\":\"\"},\"caxis\":{\"gridcolor\":\"white\",\"linecolor\":\"white\",\"ticks\":\"\"}},\"coloraxis\":{\"colorbar\":{\"outlinewidth\":0,\"ticks\":\"\"}},\"colorscale\":{\"sequential\":[[0.0,\"#0d0887\"],[0.1111111111111111,\"#46039f\"],[0.2222222222222222,\"#7201a8\"],[0.3333333333333333,\"#9c179e\"],[0.4444444444444444,\"#bd3786\"],[0.5555555555555556,\"#d8576b\"],[0.6666666666666666,\"#ed7953\"],[0.7777777777777778,\"#fb9f3a\"],[0.8888888888888888,\"#fdca26\"],[1.0,\"#f0f921\"]],\"sequentialminus\":[[0.0,\"#0d0887\"],[0.1111111111111111,\"#46039f\"],[0.2222222222222222,\"#7201a8\"],[0.3333333333333333,\"#9c179e\"],[0.4444444444444444,\"#bd3786\"],[0.5555555555555556,\"#d8576b\"],[0.6666666666666666,\"#ed7953\"],[0.7777777777777778,\"#fb9f3a\"],[0.8888888888888888,\"#fdca26\"],[1.0,\"#f0f921\"]],\"diverging\":[[0,\"#8e0152\"],[0.1,\"#c51b7d\"],[0.2,\"#de77ae\"],[0.3,\"#f1b6da\"],[0.4,\"#fde0ef\"],[0.5,\"#f7f7f7\"],[0.6,\"#e6f5d0\"],[0.7,\"#b8e186\"],[0.8,\"#7fbc41\"],[0.9,\"#4d9221\"],[1,\"#276419\"]]},\"xaxis\":{\"gridcolor\":\"white\",\"linecolor\":\"white\",\"ticks\":\"\",\"title\":{\"standoff\":15},\"zerolinecolor\":\"white\",\"automargin\":true,\"zerolinewidth\":2},\"yaxis\":{\"gridcolor\":\"white\",\"linecolor\":\"white\",\"ticks\":\"\",\"title\":{\"standoff\":15},\"zerolinecolor\":\"white\",\"automargin\":true,\"zerolinewidth\":2},\"scene\":{\"xaxis\":{\"backgroundcolor\":\"#E5ECF6\",\"gridcolor\":\"white\",\"linecolor\":\"white\",\"showbackground\":true,\"ticks\":\"\",\"zerolinecolor\":\"white\",\"gridwidth\":2},\"yaxis\":{\"backgroundcolor\":\"#E5ECF6\",\"gridcolor\":\"white\",\"linecolor\":\"white\",\"showbackground\":true,\"ticks\":\"\",\"zerolinecolor\":\"white\",\"gridwidth\":2},\"zaxis\":{\"backgroundcolor\":\"#E5ECF6\",\"gridcolor\":\"white\",\"linecolor\":\"white\",\"showbackground\":true,\"ticks\":\"\",\"zerolinecolor\":\"white\",\"gridwidth\":2}},\"shapedefaults\":{\"line\":{\"color\":\"#2a3f5f\"}},\"annotationdefaults\":{\"arrowcolor\":\"#2a3f5f\",\"arrowhead\":0,\"arrowwidth\":1},\"geo\":{\"bgcolor\":\"white\",\"landcolor\":\"#E5ECF6\",\"subunitcolor\":\"white\",\"showland\":true,\"showlakes\":true,\"lakecolor\":\"white\"},\"title\":{\"x\":0.05},\"mapbox\":{\"style\":\"light\"}}},\"barmode\":\"stack\",\"font\":{\"family\":\"Times New Roman\",\"size\":13,\"color\":\"Black\"},\"title\":{\"text\":\"MCS score distribution across exercises\"},\"xaxis\":{\"title\":{\"text\":\"Exercise\"}},\"yaxis\":{\"title\":{\"text\":\"Total number of Samples\"}},\"legend\":{\"title\":{\"text\":\"MCS score\"}}},                        {\"responsive\": true}                    ).then(function(){\n",
       "                            \n",
       "var gd = document.getElementById('dd8190aa-1503-4796-8d2e-6153b41fcae2');\n",
       "var x = new MutationObserver(function (mutations, observer) {{\n",
       "        var display = window.getComputedStyle(gd).display;\n",
       "        if (!display || display === 'none') {{\n",
       "            console.log([gd, 'removed!']);\n",
       "            Plotly.purge(gd);\n",
       "            observer.disconnect();\n",
       "        }}\n",
       "}});\n",
       "\n",
       "// Listen for the removal of the full notebook cells\n",
       "var notebookContainer = gd.closest('#notebook-container');\n",
       "if (notebookContainer) {{\n",
       "    x.observe(notebookContainer, {childList: true});\n",
       "}}\n",
       "\n",
       "// Listen for the clearing of the current output cell\n",
       "var outputEl = gd.closest('.output');\n",
       "if (outputEl) {{\n",
       "    x.observe(outputEl, {childList: true});\n",
       "}}\n",
       "\n",
       "                        })                };                });            </script>        </div>"
      ]
     },
     "metadata": {},
     "output_type": "display_data"
    }
   ],
   "source": [
    "import plotly.graph_objects as go\n",
    "\n",
    "\n",
    "fig = go.Figure(data=[go.Bar(name=f'MCS:{i}', x=desc_to_action, y=[ (test_mcs_scores[test_labels==j] == i).sum() + (train_mcs_scores[train_labels==j] == i).sum()  for j,_ in enumerate(desc_to_action) ] ) for i in range(1,5)])\n",
    "# Change the bar mode\n",
    "fig.update_layout(barmode='stack')\n",
    "\n",
    "fig.update_layout(\n",
    "    title=\"MCS score distribution across exercises\",\n",
    "    xaxis_title=\"Exercise\",\n",
    "    yaxis_title=\"Total number of Samples\",\n",
    "    legend_title=\"MCS score\",\n",
    "    font=dict(\n",
    "        family=\"Times New Roman\",\n",
    "        size=13,\n",
    "        color=\"Black\"\n",
    "    )\n",
    ")\n",
    "\n",
    "fig.show()"
   ]
  },
  {
   "cell_type": "code",
   "execution_count": 63,
   "metadata": {},
   "outputs": [
    {
     "data": {
      "application/vnd.plotly.v1+json": {
       "config": {
        "plotlyServerURL": "https://plot.ly"
       },
       "data": [
        {
         "mode": "markers",
         "name": "bend and pull fast",
         "type": "scatter",
         "visible": true,
         "x": [
          -9.08823,
          -8.431596,
          -8.558163,
          -3.4161494,
          -3.0194044,
          -11.175595,
          -1.6210248,
          -1.0225949,
          -1.130821,
          2.2845588,
          0.55144966,
          27.494165,
          28.13053,
          28.1626,
          -1.9123948,
          -3.9295194,
          -4.1871495,
          -4.727227,
          -5.445173,
          -4.566368,
          -4.852596,
          -5.9264317,
          -6.9559927,
          -6.762282,
          -4.043326,
          -16.17612,
          -15.5674305,
          -11.809114,
          21.560492,
          -1.2500808,
          -1.3737651,
          -9.730878,
          -9.888737,
          -8.088412,
          -9.846972,
          -7.897428,
          -8.24959,
          -4.887395,
          20.171581,
          25.37208
         ],
         "y": [
          -4.1574063,
          -3.2874606,
          -4.4470496,
          -9.976109,
          -18.731583,
          -4.4935064,
          -6.2954197,
          -5.8032274,
          -5.78059,
          -1.0602872,
          -4.2937274,
          20.618036,
          22.222805,
          22.291922,
          -19.121883,
          -8.879902,
          -8.8092985,
          -9.632632,
          -0.2473804,
          0.82080835,
          0.8725302,
          -0.51243854,
          0.83049107,
          0.8997405,
          -10.453495,
          -9.771943,
          -9.804467,
          -0.7910524,
          21.02376,
          -21.170275,
          -21.753876,
          -8.441689,
          -8.816594,
          0.5880676,
          -9.078893,
          -7.361509,
          0.505743,
          -14.630313,
          21.188593,
          20.63989
         ]
        },
        {
         "mode": "markers",
         "name": "countermovement jump",
         "type": "scatter",
         "x": [
          26.297241,
          21.260115,
          10.701274,
          19.195543,
          5.1418176,
          12.136556,
          20.62125,
          23.554493,
          22.161524,
          25.806427,
          25.642672,
          25.96507,
          18.45186,
          17.582031,
          -0.55558157,
          10.253784,
          11.1495285,
          11.263238,
          21.350958,
          22.338495,
          5.2988234,
          6.365289,
          9.387612,
          10.817022,
          11.341875,
          26.268522,
          26.051928,
          25.55497,
          -36.208126,
          -5.318302,
          22.139717,
          23.686913,
          20.076042,
          20.497272,
          20.712782,
          13.065321,
          17.969975,
          6.640995,
          4.1095047,
          -8.112032
         ],
         "y": [
          18.002127,
          -1.4260484,
          1.5726864,
          -1.17732,
          9.411854,
          2.5792177,
          1.8333619,
          -0.63658726,
          0.4403033,
          16.492496,
          15.949443,
          16.49186,
          6.5648885,
          6.1788955,
          -15.1009,
          -8.506089,
          -9.044857,
          -9.42892,
          -0.80614257,
          -0.7067544,
          3.16775,
          2.9465132,
          2.7193468,
          1.1975013,
          0.9969991,
          19.02063,
          19.568237,
          19.161163,
          1.9386854,
          -3.1621716,
          -3.3745997,
          -3.1760647,
          19.45436,
          19.570204,
          19.30474,
          0.9949974,
          3.7057517,
          3.6000173,
          2.2287843,
          -0.61873275
         ]
        },
        {
         "mode": "markers",
         "name": "left countermovement jump",
         "type": "scatter",
         "visible": true,
         "x": [
          10.494097,
          11.291868,
          8.22445,
          -7.475946,
          18.804342,
          5.5280724,
          11.99001,
          -14.07004,
          -11.353432,
          -14.071056,
          27.035908,
          25.512064,
          26.998423,
          23.26073,
          22.797499,
          23.63674,
          19.125181,
          -6.224866,
          21.104004,
          7.551707,
          8.854402,
          10.076426,
          10.450928,
          10.149851,
          10.362522,
          5.7578936,
          10.233346,
          10.328767,
          -0.38207832,
          1.2695335,
          0.27307788,
          27.471268,
          0.6207031,
          27.964056,
          7.883299,
          13.814142,
          11.465687,
          5.8354545,
          5.6807466,
          -4.267048
         ],
         "y": [
          9.324212,
          7.9866476,
          7.7270155,
          -1.7628773,
          -8.917975,
          6.1649327,
          5.487022,
          -1.8507485,
          0.54954255,
          -1.8900723,
          16.157991,
          18.177277,
          19.274916,
          16.586864,
          16.748999,
          17.024876,
          2.384758,
          -3.3375378,
          0.8064694,
          5.3270097,
          6.3547544,
          5.8858027,
          4.7841144,
          4.3584213,
          4.0638723,
          4.0131307,
          7.284393,
          8.441456,
          0.7938459,
          0.8037404,
          0.14845045,
          18.097689,
          -7.2956424,
          16.813065,
          -1.0661874,
          2.2706323,
          4.164674,
          7.1675315,
          6.9558263,
          3.7124577
         ]
        },
        {
         "mode": "markers",
         "name": "left lunge and twist",
         "type": "scatter",
         "visible": true,
         "x": [
          -19.713202,
          -34.439156,
          -21.746471,
          -22.98699,
          -22.194132,
          -25.146774,
          -33.92004,
          -20.905605,
          -22.087877,
          -22.678715,
          -12.701105,
          -23.55034,
          -28.94772,
          -21.410484,
          -13.261939
         ],
         "y": [
          0.56745833,
          1.1241324,
          1.2072047,
          -7.1476774,
          -7.076778,
          -4.538764,
          -0.99189425,
          -1.0561463,
          -5.2651796,
          -4.498249,
          1.206422,
          -0.1115065,
          -4.5410156,
          -1.3234922,
          -0.14320806
         ]
        },
        {
         "mode": "markers",
         "name": "left lunge and twist fast",
         "type": "scatter",
         "x": [
          -18.078207,
          -18.343782,
          -18.327465,
          -25.102707,
          -25.043306,
          -19.568369,
          -22.90889,
          2.9698687,
          2.6789005,
          -22.723782,
          -23.951,
          -24.147072,
          -23.344688,
          -24.031195,
          -23.838268,
          -25.508724,
          -26.724167,
          -26.256617,
          -28.393404,
          -28.167995,
          -27.886858,
          -15.574912,
          -17.153898,
          -20.445257,
          -22.70878,
          -16.628754,
          -17.245632,
          -19.117544,
          -11.925536,
          -13.259194,
          -24.998116,
          -26.635216,
          -26.535936,
          -26.99895,
          -27.217789,
          -26.646463,
          -28.344719,
          -17.545912,
          2.625757,
          -21.145576,
          -21.176464,
          -18.338995
         ],
         "y": [
          -9.713678,
          -9.048112,
          -8.633645,
          -7.623443,
          -7.5639215,
          -2.3067398,
          1.2070507,
          -15.441637,
          -13.899425,
          0.27426308,
          -3.8403034,
          -2.7430263,
          -3.4303284,
          -5.1451535,
          -5.1373057,
          -1.8427259,
          -2.7360675,
          -2.3753605,
          -5.202467,
          -5.059611,
          -4.449184,
          0.49003553,
          1.9370482,
          2.030501,
          -0.237908,
          0.77264416,
          2.3639655,
          -8.84447,
          -1.481451,
          1.3988026,
          -1.3802067,
          -1.2081156,
          -1.5529916,
          -7.574228,
          -7.540233,
          -8.10823,
          -0.25087675,
          -0.20652255,
          -13.88193,
          1.0706501,
          0.4711944,
          0.5010104
         ]
        },
        {
         "mode": "markers",
         "name": "right countermovement jump",
         "type": "scatter",
         "x": [
          28.064667,
          27.520445,
          10.746075,
          -1.8192359,
          -1.4503343,
          -1.3299019,
          17.068958,
          17.71856,
          17.843382,
          4.6168146,
          7.118642,
          2.5389242,
          -11.27982,
          -8.997137,
          -14.64761,
          -2.709954,
          21.604563,
          -5.573767,
          -5.587897,
          6.58843,
          7.8465047,
          -2.271951,
          -16.566566,
          -12.104966,
          -16.561646,
          12.118018,
          -3.9212651,
          8.637988,
          9.022076,
          -1.5796678,
          27.0672,
          11.136394,
          10.982346,
          10.526665,
          4.4719324,
          7.486771,
          6.962716
         ],
         "y": [
          17.767178,
          17.38478,
          6.905108,
          -17.538027,
          -17.13566,
          -17.681395,
          19.46167,
          19.455095,
          19.79039,
          7.1550636,
          8.053142,
          6.8072867,
          0.96576554,
          -12.480328,
          -10.702465,
          1.0616982,
          0.39159226,
          -4.040545,
          -3.8414972,
          4.6184454,
          5.730097,
          4.456866,
          -14.306871,
          -3.216427,
          -14.311374,
          9.493544,
          3.3816361,
          1.0980386,
          0.6841091,
          -0.8126926,
          17.164604,
          -1.5002111,
          -1.7066281,
          -1.8028643,
          6.3923073,
          6.780812,
          6.3174706
         ]
        },
        {
         "mode": "markers",
         "name": "right lunge and twist",
         "type": "scatter",
         "x": [
          -36.592167,
          -29.924648,
          -21.366554,
          -34.488167,
          -31.741722,
          -33.183926,
          -31.181976,
          -32.463932,
          -29.002821,
          -28.189852,
          -26.618961,
          -16.320433,
          -33.626965
         ],
         "y": [
          0.4785783,
          6.0942864,
          -2.2041967,
          2.2306702,
          1.6343374,
          -1.3492408,
          0.33560663,
          5.4018326,
          2.0009563,
          2.4768066,
          3.8928287,
          0.008225096,
          2.0606186
         ]
        },
        {
         "mode": "markers",
         "name": "right lunge and twist fast",
         "type": "scatter",
         "x": [
          -26.559975,
          -33.55496,
          -33.59123,
          -23.307823,
          -22.859694,
          -23.892017,
          -33.387047,
          -32.149555,
          -32.541584,
          -29.996029,
          -30.096045,
          -29.361351,
          -29.143774,
          -29.661814,
          -29.567833,
          -30.240885,
          -30.412405,
          -29.144772,
          -31.578415,
          -31.75658,
          -23.46003,
          -32.333683,
          -32.832073,
          -32.25105,
          -28.843227,
          -31.794685,
          -31.46699,
          -20.448866,
          -17.396553,
          -30.609299,
          -29.342617,
          -31.254187,
          -31.39652,
          -25.245186,
          -26.854412,
          -23.11547,
          -32.518276,
          -33.369114,
          -33.253006,
          -17.789688
         ],
         "y": [
          -3.638579,
          -5.919628,
          -5.761291,
          8.149282,
          8.198418,
          8.102173,
          0.5963155,
          3.0386996,
          2.5343726,
          2.8200302,
          3.708264,
          4.452592,
          0.31977853,
          3.5687635,
          -2.0337367,
          -1.7376138,
          -1.9871644,
          -0.8179984,
          -0.78438985,
          -0.7299065,
          3.4072335,
          -2.0143735,
          -2.3476348,
          -2.5187604,
          3.4385467,
          5.0055633,
          4.7386007,
          0.5221771,
          -1.181125,
          0.81734204,
          1.6030142,
          2.8482583,
          3.6049092,
          2.918773,
          3.3586853,
          3.3470082,
          1.2564423,
          3.6014402,
          3.258168,
          -1.3030436
         ]
        },
        {
         "mode": "markers",
         "name": "right single leg squat",
         "type": "scatter",
         "x": [
          -10.050624,
          28.706604,
          29.020353,
          29.217083,
          21.957096,
          22.981077,
          -0.90343523,
          -0.432563,
          -2.7996416,
          6.024595,
          7.0693083,
          20.620674,
          22.548891,
          22.792944,
          22.219307,
          -2.2706466,
          4.320247,
          4.3523955,
          -9.763649,
          23.836014,
          5.7359176,
          23.27117,
          -10.309469,
          21.29783,
          21.300331,
          -1.4131846,
          -2.024844,
          -4.219862,
          24.347618,
          23.453907,
          7.6914105,
          8.402835,
          8.182688,
          1.0609385,
          -0.647374,
          25.870073,
          26.015936,
          -1.3961191,
          11.947841,
          5.4940886,
          5.349109,
          5.2325544
         ],
         "y": [
          -11.083902,
          20.545334,
          20.072962,
          20.009998,
          1.8094397,
          14.620856,
          -1.0478221,
          -16.661814,
          -16.59648,
          11.794049,
          11.139109,
          2.8768506,
          13.775194,
          13.8487015,
          14.251567,
          7.9903083,
          -4.716178,
          -4.724906,
          -11.397731,
          12.860752,
          12.387258,
          12.833782,
          -10.588907,
          3.2449884,
          2.1282556,
          5.452245,
          5.2408776,
          4.5218563,
          13.502829,
          14.119935,
          1.4661229,
          3.6906998,
          3.6445386,
          -0.84176147,
          -1.0937518,
          12.626994,
          12.595038,
          -18.300716,
          -4.134501,
          10.230028,
          0.2969945,
          0.10505548
         ]
        },
        {
         "mode": "markers",
         "name": "squat",
         "type": "scatter",
         "x": [
          21.021236,
          20.779186,
          21.742193,
          0.51142055,
          2.2394521,
          2.0319579,
          23.685299,
          19.921036,
          20.501236,
          18.892265,
          18.830173,
          18.771957,
          19.699986,
          19.79066,
          -0.0849709,
          18.348795,
          17.781088,
          11.24296,
          -5.5304055,
          17.72779,
          10.476462,
          22.493122,
          22.15411,
          23.199024,
          7.2357373,
          1.545716,
          9.781152,
          7.510195,
          15.157756,
          15.067341,
          17.278328,
          17.828651,
          17.262568,
          18.768497,
          18.822111,
          18.677237,
          18.23658,
          -6.8827133,
          -6.7517076,
          3.2512238,
          18.384817,
          18.133615
         ],
         "y": [
          -3.2062325,
          -4.0359535,
          -4.1923656,
          -14.635159,
          -15.33006,
          -15.310707,
          1.132514,
          1.1231121,
          0.34488338,
          18.929998,
          19.313301,
          19.676287,
          5.3784237,
          5.0261717,
          -15.181382,
          3.9979093,
          -2.6242669,
          -8.861606,
          -5.862044,
          -2.6107044,
          -8.617474,
          -1.4902455,
          -1.732399,
          -1.9390976,
          2.6175058,
          1.3959277,
          1.7808199,
          -0.35028934,
          0.48383358,
          0.47107634,
          1.8497536,
          0.96187526,
          1.6633449,
          -4.622779,
          -3.7310057,
          -3.757934,
          -0.29843277,
          -3.3713727,
          -4.230616,
          6.8781977,
          -9.237554,
          -9.368738
         ]
        },
        {
         "mode": "markers",
         "name": "bend and pull",
         "type": "scatter",
         "x": [
          -4.8502116,
          -5.4600973,
          -10.159602,
          1.789069,
          27.706665,
          -2.1582718,
          3.3384848,
          -0.36710948,
          -4.6634016,
          -16.387032,
          -2.2512047,
          -6.2965307,
          -8.786984,
          -0.71037656
         ],
         "y": [
          -8.180769,
          -14.516887,
          0.24536958,
          -3.4840863,
          15.459393,
          -7.3058014,
          -1.0176618,
          -18.917593,
          -10.344914,
          -10.417996,
          -8.654755,
          -8.134137,
          -7.238806,
          -19.073519
         ]
        },
        {
         "mode": "markers",
         "name": "left single leg squat",
         "type": "scatter",
         "x": [
          0.57765365,
          10.977481,
          7.16845,
          9.791578,
          -4.977363,
          -2.8660789,
          13.610358,
          13.042288,
          13.556345,
          2.7158349,
          -16.363544,
          -15.366561,
          -16.39652,
          12.527742,
          5.8448586,
          12.571879,
          22.306135,
          22.2373,
          23.108152,
          0.7340995,
          -0.48315668,
          0.49583012,
          1.6287384,
          -5.3664255,
          2.805554,
          0.66050595,
          0.45586082,
          -1.0751784,
          13.367744,
          8.902089,
          -10.517382,
          11.672445,
          3.7684395,
          -2.6126168,
          2.105142,
          2.2233357
         ],
         "y": [
          7.8794603,
          10.351581,
          8.494875,
          8.923831,
          2.6628695,
          -1.692751,
          4.569286,
          5.5808406,
          4.975763,
          8.78183,
          -8.127397,
          -7.373837,
          -8.245905,
          -1.1363667,
          -2.104525,
          -2.186184,
          2.913429,
          3.44754,
          3.3624678,
          8.237927,
          7.5457754,
          1.5096331,
          9.402978,
          4.061585,
          10.152966,
          3.6901886,
          3.414591,
          0.26479894,
          6.9084153,
          -1.4053274,
          -6.348496,
          -3.5204108,
          4.664677,
          -2.6572297,
          5.20819,
          4.494463
         ]
        },
        {
         "mode": "markers",
         "name": "push up",
         "type": "scatter",
         "x": [
          -13.906684,
          -8.001504,
          -9.221581,
          -14.08833,
          -14.029861,
          -11.063785
         ],
         "y": [
          -4.1710486,
          -13.36179,
          -3.386888,
          -4.2115707,
          -4.2303896,
          -3.5050213
         ]
        }
       ],
       "layout": {
        "height": 800,
        "template": {
         "data": {
          "bar": [
           {
            "error_x": {
             "color": "#2a3f5f"
            },
            "error_y": {
             "color": "#2a3f5f"
            },
            "marker": {
             "line": {
              "color": "#E5ECF6",
              "width": 0.5
             },
             "pattern": {
              "fillmode": "overlay",
              "size": 10,
              "solidity": 0.2
             }
            },
            "type": "bar"
           }
          ],
          "barpolar": [
           {
            "marker": {
             "line": {
              "color": "#E5ECF6",
              "width": 0.5
             },
             "pattern": {
              "fillmode": "overlay",
              "size": 10,
              "solidity": 0.2
             }
            },
            "type": "barpolar"
           }
          ],
          "carpet": [
           {
            "aaxis": {
             "endlinecolor": "#2a3f5f",
             "gridcolor": "white",
             "linecolor": "white",
             "minorgridcolor": "white",
             "startlinecolor": "#2a3f5f"
            },
            "baxis": {
             "endlinecolor": "#2a3f5f",
             "gridcolor": "white",
             "linecolor": "white",
             "minorgridcolor": "white",
             "startlinecolor": "#2a3f5f"
            },
            "type": "carpet"
           }
          ],
          "choropleth": [
           {
            "colorbar": {
             "outlinewidth": 0,
             "ticks": ""
            },
            "type": "choropleth"
           }
          ],
          "contour": [
           {
            "colorbar": {
             "outlinewidth": 0,
             "ticks": ""
            },
            "colorscale": [
             [
              0,
              "#0d0887"
             ],
             [
              0.1111111111111111,
              "#46039f"
             ],
             [
              0.2222222222222222,
              "#7201a8"
             ],
             [
              0.3333333333333333,
              "#9c179e"
             ],
             [
              0.4444444444444444,
              "#bd3786"
             ],
             [
              0.5555555555555556,
              "#d8576b"
             ],
             [
              0.6666666666666666,
              "#ed7953"
             ],
             [
              0.7777777777777778,
              "#fb9f3a"
             ],
             [
              0.8888888888888888,
              "#fdca26"
             ],
             [
              1,
              "#f0f921"
             ]
            ],
            "type": "contour"
           }
          ],
          "contourcarpet": [
           {
            "colorbar": {
             "outlinewidth": 0,
             "ticks": ""
            },
            "type": "contourcarpet"
           }
          ],
          "heatmap": [
           {
            "colorbar": {
             "outlinewidth": 0,
             "ticks": ""
            },
            "colorscale": [
             [
              0,
              "#0d0887"
             ],
             [
              0.1111111111111111,
              "#46039f"
             ],
             [
              0.2222222222222222,
              "#7201a8"
             ],
             [
              0.3333333333333333,
              "#9c179e"
             ],
             [
              0.4444444444444444,
              "#bd3786"
             ],
             [
              0.5555555555555556,
              "#d8576b"
             ],
             [
              0.6666666666666666,
              "#ed7953"
             ],
             [
              0.7777777777777778,
              "#fb9f3a"
             ],
             [
              0.8888888888888888,
              "#fdca26"
             ],
             [
              1,
              "#f0f921"
             ]
            ],
            "type": "heatmap"
           }
          ],
          "heatmapgl": [
           {
            "colorbar": {
             "outlinewidth": 0,
             "ticks": ""
            },
            "colorscale": [
             [
              0,
              "#0d0887"
             ],
             [
              0.1111111111111111,
              "#46039f"
             ],
             [
              0.2222222222222222,
              "#7201a8"
             ],
             [
              0.3333333333333333,
              "#9c179e"
             ],
             [
              0.4444444444444444,
              "#bd3786"
             ],
             [
              0.5555555555555556,
              "#d8576b"
             ],
             [
              0.6666666666666666,
              "#ed7953"
             ],
             [
              0.7777777777777778,
              "#fb9f3a"
             ],
             [
              0.8888888888888888,
              "#fdca26"
             ],
             [
              1,
              "#f0f921"
             ]
            ],
            "type": "heatmapgl"
           }
          ],
          "histogram": [
           {
            "marker": {
             "pattern": {
              "fillmode": "overlay",
              "size": 10,
              "solidity": 0.2
             }
            },
            "type": "histogram"
           }
          ],
          "histogram2d": [
           {
            "colorbar": {
             "outlinewidth": 0,
             "ticks": ""
            },
            "colorscale": [
             [
              0,
              "#0d0887"
             ],
             [
              0.1111111111111111,
              "#46039f"
             ],
             [
              0.2222222222222222,
              "#7201a8"
             ],
             [
              0.3333333333333333,
              "#9c179e"
             ],
             [
              0.4444444444444444,
              "#bd3786"
             ],
             [
              0.5555555555555556,
              "#d8576b"
             ],
             [
              0.6666666666666666,
              "#ed7953"
             ],
             [
              0.7777777777777778,
              "#fb9f3a"
             ],
             [
              0.8888888888888888,
              "#fdca26"
             ],
             [
              1,
              "#f0f921"
             ]
            ],
            "type": "histogram2d"
           }
          ],
          "histogram2dcontour": [
           {
            "colorbar": {
             "outlinewidth": 0,
             "ticks": ""
            },
            "colorscale": [
             [
              0,
              "#0d0887"
             ],
             [
              0.1111111111111111,
              "#46039f"
             ],
             [
              0.2222222222222222,
              "#7201a8"
             ],
             [
              0.3333333333333333,
              "#9c179e"
             ],
             [
              0.4444444444444444,
              "#bd3786"
             ],
             [
              0.5555555555555556,
              "#d8576b"
             ],
             [
              0.6666666666666666,
              "#ed7953"
             ],
             [
              0.7777777777777778,
              "#fb9f3a"
             ],
             [
              0.8888888888888888,
              "#fdca26"
             ],
             [
              1,
              "#f0f921"
             ]
            ],
            "type": "histogram2dcontour"
           }
          ],
          "mesh3d": [
           {
            "colorbar": {
             "outlinewidth": 0,
             "ticks": ""
            },
            "type": "mesh3d"
           }
          ],
          "parcoords": [
           {
            "line": {
             "colorbar": {
              "outlinewidth": 0,
              "ticks": ""
             }
            },
            "type": "parcoords"
           }
          ],
          "pie": [
           {
            "automargin": true,
            "type": "pie"
           }
          ],
          "scatter": [
           {
            "fillpattern": {
             "fillmode": "overlay",
             "size": 10,
             "solidity": 0.2
            },
            "type": "scatter"
           }
          ],
          "scatter3d": [
           {
            "line": {
             "colorbar": {
              "outlinewidth": 0,
              "ticks": ""
             }
            },
            "marker": {
             "colorbar": {
              "outlinewidth": 0,
              "ticks": ""
             }
            },
            "type": "scatter3d"
           }
          ],
          "scattercarpet": [
           {
            "marker": {
             "colorbar": {
              "outlinewidth": 0,
              "ticks": ""
             }
            },
            "type": "scattercarpet"
           }
          ],
          "scattergeo": [
           {
            "marker": {
             "colorbar": {
              "outlinewidth": 0,
              "ticks": ""
             }
            },
            "type": "scattergeo"
           }
          ],
          "scattergl": [
           {
            "marker": {
             "colorbar": {
              "outlinewidth": 0,
              "ticks": ""
             }
            },
            "type": "scattergl"
           }
          ],
          "scattermapbox": [
           {
            "marker": {
             "colorbar": {
              "outlinewidth": 0,
              "ticks": ""
             }
            },
            "type": "scattermapbox"
           }
          ],
          "scatterpolar": [
           {
            "marker": {
             "colorbar": {
              "outlinewidth": 0,
              "ticks": ""
             }
            },
            "type": "scatterpolar"
           }
          ],
          "scatterpolargl": [
           {
            "marker": {
             "colorbar": {
              "outlinewidth": 0,
              "ticks": ""
             }
            },
            "type": "scatterpolargl"
           }
          ],
          "scatterternary": [
           {
            "marker": {
             "colorbar": {
              "outlinewidth": 0,
              "ticks": ""
             }
            },
            "type": "scatterternary"
           }
          ],
          "surface": [
           {
            "colorbar": {
             "outlinewidth": 0,
             "ticks": ""
            },
            "colorscale": [
             [
              0,
              "#0d0887"
             ],
             [
              0.1111111111111111,
              "#46039f"
             ],
             [
              0.2222222222222222,
              "#7201a8"
             ],
             [
              0.3333333333333333,
              "#9c179e"
             ],
             [
              0.4444444444444444,
              "#bd3786"
             ],
             [
              0.5555555555555556,
              "#d8576b"
             ],
             [
              0.6666666666666666,
              "#ed7953"
             ],
             [
              0.7777777777777778,
              "#fb9f3a"
             ],
             [
              0.8888888888888888,
              "#fdca26"
             ],
             [
              1,
              "#f0f921"
             ]
            ],
            "type": "surface"
           }
          ],
          "table": [
           {
            "cells": {
             "fill": {
              "color": "#EBF0F8"
             },
             "line": {
              "color": "white"
             }
            },
            "header": {
             "fill": {
              "color": "#C8D4E3"
             },
             "line": {
              "color": "white"
             }
            },
            "type": "table"
           }
          ]
         },
         "layout": {
          "annotationdefaults": {
           "arrowcolor": "#2a3f5f",
           "arrowhead": 0,
           "arrowwidth": 1
          },
          "autotypenumbers": "strict",
          "coloraxis": {
           "colorbar": {
            "outlinewidth": 0,
            "ticks": ""
           }
          },
          "colorscale": {
           "diverging": [
            [
             0,
             "#8e0152"
            ],
            [
             0.1,
             "#c51b7d"
            ],
            [
             0.2,
             "#de77ae"
            ],
            [
             0.3,
             "#f1b6da"
            ],
            [
             0.4,
             "#fde0ef"
            ],
            [
             0.5,
             "#f7f7f7"
            ],
            [
             0.6,
             "#e6f5d0"
            ],
            [
             0.7,
             "#b8e186"
            ],
            [
             0.8,
             "#7fbc41"
            ],
            [
             0.9,
             "#4d9221"
            ],
            [
             1,
             "#276419"
            ]
           ],
           "sequential": [
            [
             0,
             "#0d0887"
            ],
            [
             0.1111111111111111,
             "#46039f"
            ],
            [
             0.2222222222222222,
             "#7201a8"
            ],
            [
             0.3333333333333333,
             "#9c179e"
            ],
            [
             0.4444444444444444,
             "#bd3786"
            ],
            [
             0.5555555555555556,
             "#d8576b"
            ],
            [
             0.6666666666666666,
             "#ed7953"
            ],
            [
             0.7777777777777778,
             "#fb9f3a"
            ],
            [
             0.8888888888888888,
             "#fdca26"
            ],
            [
             1,
             "#f0f921"
            ]
           ],
           "sequentialminus": [
            [
             0,
             "#0d0887"
            ],
            [
             0.1111111111111111,
             "#46039f"
            ],
            [
             0.2222222222222222,
             "#7201a8"
            ],
            [
             0.3333333333333333,
             "#9c179e"
            ],
            [
             0.4444444444444444,
             "#bd3786"
            ],
            [
             0.5555555555555556,
             "#d8576b"
            ],
            [
             0.6666666666666666,
             "#ed7953"
            ],
            [
             0.7777777777777778,
             "#fb9f3a"
            ],
            [
             0.8888888888888888,
             "#fdca26"
            ],
            [
             1,
             "#f0f921"
            ]
           ]
          },
          "colorway": [
           "#636efa",
           "#EF553B",
           "#00cc96",
           "#ab63fa",
           "#FFA15A",
           "#19d3f3",
           "#FF6692",
           "#B6E880",
           "#FF97FF",
           "#FECB52"
          ],
          "font": {
           "color": "#2a3f5f"
          },
          "geo": {
           "bgcolor": "white",
           "lakecolor": "white",
           "landcolor": "#E5ECF6",
           "showlakes": true,
           "showland": true,
           "subunitcolor": "white"
          },
          "hoverlabel": {
           "align": "left"
          },
          "hovermode": "closest",
          "mapbox": {
           "style": "light"
          },
          "paper_bgcolor": "white",
          "plot_bgcolor": "#E5ECF6",
          "polar": {
           "angularaxis": {
            "gridcolor": "white",
            "linecolor": "white",
            "ticks": ""
           },
           "bgcolor": "#E5ECF6",
           "radialaxis": {
            "gridcolor": "white",
            "linecolor": "white",
            "ticks": ""
           }
          },
          "scene": {
           "xaxis": {
            "backgroundcolor": "#E5ECF6",
            "gridcolor": "white",
            "gridwidth": 2,
            "linecolor": "white",
            "showbackground": true,
            "ticks": "",
            "zerolinecolor": "white"
           },
           "yaxis": {
            "backgroundcolor": "#E5ECF6",
            "gridcolor": "white",
            "gridwidth": 2,
            "linecolor": "white",
            "showbackground": true,
            "ticks": "",
            "zerolinecolor": "white"
           },
           "zaxis": {
            "backgroundcolor": "#E5ECF6",
            "gridcolor": "white",
            "gridwidth": 2,
            "linecolor": "white",
            "showbackground": true,
            "ticks": "",
            "zerolinecolor": "white"
           }
          },
          "shapedefaults": {
           "line": {
            "color": "#2a3f5f"
           }
          },
          "ternary": {
           "aaxis": {
            "gridcolor": "white",
            "linecolor": "white",
            "ticks": ""
           },
           "baxis": {
            "gridcolor": "white",
            "linecolor": "white",
            "ticks": ""
           },
           "bgcolor": "#E5ECF6",
           "caxis": {
            "gridcolor": "white",
            "linecolor": "white",
            "ticks": ""
           }
          },
          "title": {
           "x": 0.05
          },
          "xaxis": {
           "automargin": true,
           "gridcolor": "white",
           "linecolor": "white",
           "ticks": "",
           "title": {
            "standoff": 15
           },
           "zerolinecolor": "white",
           "zerolinewidth": 2
          },
          "yaxis": {
           "automargin": true,
           "gridcolor": "white",
           "linecolor": "white",
           "ticks": "",
           "title": {
            "standoff": 15
           },
           "zerolinecolor": "white",
           "zerolinewidth": 2
          }
         }
        },
        "width": 1600,
        "xaxis": {
         "autorange": true,
         "range": [
          -40.49164985619175,
          33.11656585619174
         ],
         "type": "linear"
        },
        "yaxis": {
         "autorange": true,
         "range": [
          -24.534241995458675,
          25.072287995458673
         ],
         "type": "linear"
        }
       }
      },
      "image/png": "[encoded data removed]",
      "text/html": [
       "<div>                            <div id=\"1c14f8d6-f2a6-447d-89fd-61e344eea594\" class=\"plotly-graph-div\" style=\"height:800px; width:1600px;\"></div>            <script type=\"text/javascript\">                require([\"plotly\"], function(Plotly) {                    window.PLOTLYENV=window.PLOTLYENV || {};                                    if (document.getElementById(\"1c14f8d6-f2a6-447d-89fd-61e344eea594\")) {                    Plotly.newPlot(                        \"1c14f8d6-f2a6-447d-89fd-61e344eea594\",                        [{\"mode\":\"markers\",\"name\":\"bend and pull fast\",\"x\":[-9.08823,-8.431596,-8.558163,-3.4161494,-3.0194044,-11.175595,-1.6210248,-1.0225949,-1.130821,2.2845588,0.55144966,27.494165,28.13053,28.1626,-1.9123948,-3.9295194,-4.1871495,-4.727227,-5.445173,-4.566368,-4.852596,-5.9264317,-6.9559927,-6.762282,-4.043326,-16.17612,-15.5674305,-11.809114,21.560492,-1.2500808,-1.3737651,-9.730878,-9.888737,-8.088412,-9.846972,-7.897428,-8.24959,-4.887395,20.171581,25.37208],\"y\":[-4.1574063,-3.2874606,-4.4470496,-9.976109,-18.731583,-4.4935064,-6.2954197,-5.8032274,-5.78059,-1.0602872,-4.2937274,20.618036,22.222805,22.291922,-19.121883,-8.879902,-8.8092985,-9.632632,-0.2473804,0.82080835,0.8725302,-0.51243854,0.83049107,0.8997405,-10.453495,-9.771943,-9.804467,-0.7910524,21.02376,-21.170275,-21.753876,-8.441689,-8.816594,0.5880676,-9.078893,-7.361509,0.505743,-14.630313,21.188593,20.63989],\"type\":\"scatter\"},{\"mode\":\"markers\",\"name\":\"countermovement jump\",\"x\":[26.297241,21.260115,10.701274,19.195543,5.1418176,12.136556,20.62125,23.554493,22.161524,25.806427,25.642672,25.96507,18.45186,17.582031,-0.55558157,10.253784,11.1495285,11.263238,21.350958,22.338495,5.2988234,6.365289,9.387612,10.817022,11.341875,26.268522,26.051928,25.55497,-36.208126,-5.318302,22.139717,23.686913,20.076042,20.497272,20.712782,13.065321,17.969975,6.640995,4.1095047,-8.112032],\"y\":[18.002127,-1.4260484,1.5726864,-1.17732,9.411854,2.5792177,1.8333619,-0.63658726,0.4403033,16.492496,15.949443,16.49186,6.5648885,6.1788955,-15.1009,-8.506089,-9.044857,-9.42892,-0.80614257,-0.7067544,3.16775,2.9465132,2.7193468,1.1975013,0.9969991,19.02063,19.568237,19.161163,1.9386854,-3.1621716,-3.3745997,-3.1760647,19.45436,19.570204,19.30474,0.9949974,3.7057517,3.6000173,2.2287843,-0.61873275],\"type\":\"scatter\"},{\"mode\":\"markers\",\"name\":\"left countermovement jump\",\"x\":[10.494097,11.291868,8.22445,-7.475946,18.804342,5.5280724,11.99001,-14.07004,-11.353432,-14.071056,27.035908,25.512064,26.998423,23.26073,22.797499,23.63674,19.125181,-6.224866,21.104004,7.551707,8.854402,10.076426,10.450928,10.149851,10.362522,5.7578936,10.233346,10.328767,-0.38207832,1.2695335,0.27307788,27.471268,0.6207031,27.964056,7.883299,13.814142,11.465687,5.8354545,5.6807466,-4.267048],\"y\":[9.324212,7.9866476,7.7270155,-1.7628773,-8.917975,6.1649327,5.487022,-1.8507485,0.54954255,-1.8900723,16.157991,18.177277,19.274916,16.586864,16.748999,17.024876,2.384758,-3.3375378,0.8064694,5.3270097,6.3547544,5.8858027,4.7841144,4.3584213,4.0638723,4.0131307,7.284393,8.441456,0.7938459,0.8037404,0.14845045,18.097689,-7.2956424,16.813065,-1.0661874,2.2706323,4.164674,7.1675315,6.9558263,3.7124577],\"type\":\"scatter\"},{\"mode\":\"markers\",\"name\":\"left lunge and twist\",\"x\":[-19.713202,-34.439156,-21.746471,-22.98699,-22.194132,-25.146774,-33.92004,-20.905605,-22.087877,-22.678715,-12.701105,-23.55034,-28.94772,-21.410484,-13.261939],\"y\":[0.56745833,1.1241324,1.2072047,-7.1476774,-7.076778,-4.538764,-0.99189425,-1.0561463,-5.2651796,-4.498249,1.206422,-0.1115065,-4.5410156,-1.3234922,-0.14320806],\"type\":\"scatter\"},{\"mode\":\"markers\",\"name\":\"left lunge and twist fast\",\"x\":[-18.078207,-18.343782,-18.327465,-25.102707,-25.043306,-19.568369,-22.90889,2.9698687,2.6789005,-22.723782,-23.951,-24.147072,-23.344688,-24.031195,-23.838268,-25.508724,-26.724167,-26.256617,-28.393404,-28.167995,-27.886858,-15.574912,-17.153898,-20.445257,-22.70878,-16.628754,-17.245632,-19.117544,-11.925536,-13.259194,-24.998116,-26.635216,-26.535936,-26.99895,-27.217789,-26.646463,-28.344719,-17.545912,2.625757,-21.145576,-21.176464,-18.338995],\"y\":[-9.713678,-9.048112,-8.633645,-7.623443,-7.5639215,-2.3067398,1.2070507,-15.441637,-13.899425,0.27426308,-3.8403034,-2.7430263,-3.4303284,-5.1451535,-5.1373057,-1.8427259,-2.7360675,-2.3753605,-5.202467,-5.059611,-4.449184,0.49003553,1.9370482,2.030501,-0.237908,0.77264416,2.3639655,-8.84447,-1.481451,1.3988026,-1.3802067,-1.2081156,-1.5529916,-7.574228,-7.540233,-8.10823,-0.25087675,-0.20652255,-13.88193,1.0706501,0.4711944,0.5010104],\"type\":\"scatter\"},{\"mode\":\"markers\",\"name\":\"right countermovement jump\",\"x\":[28.064667,27.520445,10.746075,-1.8192359,-1.4503343,-1.3299019,17.068958,17.71856,17.843382,4.6168146,7.118642,2.5389242,-11.27982,-8.997137,-14.64761,-2.709954,21.604563,-5.573767,-5.587897,6.58843,7.8465047,-2.271951,-16.566566,-12.104966,-16.561646,12.118018,-3.9212651,8.637988,9.022076,-1.5796678,27.0672,11.136394,10.982346,10.526665,4.4719324,7.486771,6.962716],\"y\":[17.767178,17.38478,6.905108,-17.538027,-17.13566,-17.681395,19.46167,19.455095,19.79039,7.1550636,8.053142,6.8072867,0.96576554,-12.480328,-10.702465,1.0616982,0.39159226,-4.040545,-3.8414972,4.6184454,5.730097,4.456866,-14.306871,-3.216427,-14.311374,9.493544,3.3816361,1.0980386,0.6841091,-0.8126926,17.164604,-1.5002111,-1.7066281,-1.8028643,6.3923073,6.780812,6.3174706],\"type\":\"scatter\"},{\"mode\":\"markers\",\"name\":\"right lunge and twist\",\"x\":[-36.592167,-29.924648,-21.366554,-34.488167,-31.741722,-33.183926,-31.181976,-32.463932,-29.002821,-28.189852,-26.618961,-16.320433,-33.626965],\"y\":[0.4785783,6.0942864,-2.2041967,2.2306702,1.6343374,-1.3492408,0.33560663,5.4018326,2.0009563,2.4768066,3.8928287,0.008225096,2.0606186],\"type\":\"scatter\"},{\"mode\":\"markers\",\"name\":\"right lunge and twist fast\",\"x\":[-26.559975,-33.55496,-33.59123,-23.307823,-22.859694,-23.892017,-33.387047,-32.149555,-32.541584,-29.996029,-30.096045,-29.361351,-29.143774,-29.661814,-29.567833,-30.240885,-30.412405,-29.144772,-31.578415,-31.75658,-23.46003,-32.333683,-32.832073,-32.25105,-28.843227,-31.794685,-31.46699,-20.448866,-17.396553,-30.609299,-29.342617,-31.254187,-31.39652,-25.245186,-26.854412,-23.11547,-32.518276,-33.369114,-33.253006,-17.789688],\"y\":[-3.638579,-5.919628,-5.761291,8.149282,8.198418,8.102173,0.5963155,3.0386996,2.5343726,2.8200302,3.708264,4.452592,0.31977853,3.5687635,-2.0337367,-1.7376138,-1.9871644,-0.8179984,-0.78438985,-0.7299065,3.4072335,-2.0143735,-2.3476348,-2.5187604,3.4385467,5.0055633,4.7386007,0.5221771,-1.181125,0.81734204,1.6030142,2.8482583,3.6049092,2.918773,3.3586853,3.3470082,1.2564423,3.6014402,3.258168,-1.3030436],\"type\":\"scatter\"},{\"mode\":\"markers\",\"name\":\"right single leg squat\",\"x\":[-10.050624,28.706604,29.020353,29.217083,21.957096,22.981077,-0.90343523,-0.432563,-2.7996416,6.024595,7.0693083,20.620674,22.548891,22.792944,22.219307,-2.2706466,4.320247,4.3523955,-9.763649,23.836014,5.7359176,23.27117,-10.309469,21.29783,21.300331,-1.4131846,-2.024844,-4.219862,24.347618,23.453907,7.6914105,8.402835,8.182688,1.0609385,-0.647374,25.870073,26.015936,-1.3961191,11.947841,5.4940886,5.349109,5.2325544],\"y\":[-11.083902,20.545334,20.072962,20.009998,1.8094397,14.620856,-1.0478221,-16.661814,-16.59648,11.794049,11.139109,2.8768506,13.775194,13.8487015,14.251567,7.9903083,-4.716178,-4.724906,-11.397731,12.860752,12.387258,12.833782,-10.588907,3.2449884,2.1282556,5.452245,5.2408776,4.5218563,13.502829,14.119935,1.4661229,3.6906998,3.6445386,-0.84176147,-1.0937518,12.626994,12.595038,-18.300716,-4.134501,10.230028,0.2969945,0.10505548],\"type\":\"scatter\"},{\"mode\":\"markers\",\"name\":\"squat\",\"x\":[21.021236,20.779186,21.742193,0.51142055,2.2394521,2.0319579,23.685299,19.921036,20.501236,18.892265,18.830173,18.771957,19.699986,19.79066,-0.0849709,18.348795,17.781088,11.24296,-5.5304055,17.72779,10.476462,22.493122,22.15411,23.199024,7.2357373,1.545716,9.781152,7.510195,15.157756,15.067341,17.278328,17.828651,17.262568,18.768497,18.822111,18.677237,18.23658,-6.8827133,-6.7517076,3.2512238,18.384817,18.133615],\"y\":[-3.2062325,-4.0359535,-4.1923656,-14.635159,-15.33006,-15.310707,1.132514,1.1231121,0.34488338,18.929998,19.313301,19.676287,5.3784237,5.0261717,-15.181382,3.9979093,-2.6242669,-8.861606,-5.862044,-2.6107044,-8.617474,-1.4902455,-1.732399,-1.9390976,2.6175058,1.3959277,1.7808199,-0.35028934,0.48383358,0.47107634,1.8497536,0.96187526,1.6633449,-4.622779,-3.7310057,-3.757934,-0.29843277,-3.3713727,-4.230616,6.8781977,-9.237554,-9.368738],\"type\":\"scatter\"},{\"mode\":\"markers\",\"name\":\"bend and pull\",\"x\":[-4.8502116,-5.4600973,-10.159602,1.789069,27.706665,-2.1582718,3.3384848,-0.36710948,-4.6634016,-16.387032,-2.2512047,-6.2965307,-8.786984,-0.71037656],\"y\":[-8.180769,-14.516887,0.24536958,-3.4840863,15.459393,-7.3058014,-1.0176618,-18.917593,-10.344914,-10.417996,-8.654755,-8.134137,-7.238806,-19.073519],\"type\":\"scatter\"},{\"mode\":\"markers\",\"name\":\"left single leg squat\",\"x\":[0.57765365,10.977481,7.16845,9.791578,-4.977363,-2.8660789,13.610358,13.042288,13.556345,2.7158349,-16.363544,-15.366561,-16.39652,12.527742,5.8448586,12.571879,22.306135,22.2373,23.108152,0.7340995,-0.48315668,0.49583012,1.6287384,-5.3664255,2.805554,0.66050595,0.45586082,-1.0751784,13.367744,8.902089,-10.517382,11.672445,3.7684395,-2.6126168,2.105142,2.2233357],\"y\":[7.8794603,10.351581,8.494875,8.923831,2.6628695,-1.692751,4.569286,5.5808406,4.975763,8.78183,-8.127397,-7.373837,-8.245905,-1.1363667,-2.104525,-2.186184,2.913429,3.44754,3.3624678,8.237927,7.5457754,1.5096331,9.402978,4.061585,10.152966,3.6901886,3.414591,0.26479894,6.9084153,-1.4053274,-6.348496,-3.5204108,4.664677,-2.6572297,5.20819,4.494463],\"type\":\"scatter\"},{\"mode\":\"markers\",\"name\":\"push up\",\"x\":[-13.906684,-8.001504,-9.221581,-14.08833,-14.029861,-11.063785],\"y\":[-4.1710486,-13.36179,-3.386888,-4.2115707,-4.2303896,-3.5050213],\"type\":\"scatter\"}],                        {\"template\":{\"data\":{\"histogram2dcontour\":[{\"type\":\"histogram2dcontour\",\"colorbar\":{\"outlinewidth\":0,\"ticks\":\"\"},\"colorscale\":[[0.0,\"#0d0887\"],[0.1111111111111111,\"#46039f\"],[0.2222222222222222,\"#7201a8\"],[0.3333333333333333,\"#9c179e\"],[0.4444444444444444,\"#bd3786\"],[0.5555555555555556,\"#d8576b\"],[0.6666666666666666,\"#ed7953\"],[0.7777777777777778,\"#fb9f3a\"],[0.8888888888888888,\"#fdca26\"],[1.0,\"#f0f921\"]]}],\"choropleth\":[{\"type\":\"choropleth\",\"colorbar\":{\"outlinewidth\":0,\"ticks\":\"\"}}],\"histogram2d\":[{\"type\":\"histogram2d\",\"colorbar\":{\"outlinewidth\":0,\"ticks\":\"\"},\"colorscale\":[[0.0,\"#0d0887\"],[0.1111111111111111,\"#46039f\"],[0.2222222222222222,\"#7201a8\"],[0.3333333333333333,\"#9c179e\"],[0.4444444444444444,\"#bd3786\"],[0.5555555555555556,\"#d8576b\"],[0.6666666666666666,\"#ed7953\"],[0.7777777777777778,\"#fb9f3a\"],[0.8888888888888888,\"#fdca26\"],[1.0,\"#f0f921\"]]}],\"heatmap\":[{\"type\":\"heatmap\",\"colorbar\":{\"outlinewidth\":0,\"ticks\":\"\"},\"colorscale\":[[0.0,\"#0d0887\"],[0.1111111111111111,\"#46039f\"],[0.2222222222222222,\"#7201a8\"],[0.3333333333333333,\"#9c179e\"],[0.4444444444444444,\"#bd3786\"],[0.5555555555555556,\"#d8576b\"],[0.6666666666666666,\"#ed7953\"],[0.7777777777777778,\"#fb9f3a\"],[0.8888888888888888,\"#fdca26\"],[1.0,\"#f0f921\"]]}],\"heatmapgl\":[{\"type\":\"heatmapgl\",\"colorbar\":{\"outlinewidth\":0,\"ticks\":\"\"},\"colorscale\":[[0.0,\"#0d0887\"],[0.1111111111111111,\"#46039f\"],[0.2222222222222222,\"#7201a8\"],[0.3333333333333333,\"#9c179e\"],[0.4444444444444444,\"#bd3786\"],[0.5555555555555556,\"#d8576b\"],[0.6666666666666666,\"#ed7953\"],[0.7777777777777778,\"#fb9f3a\"],[0.8888888888888888,\"#fdca26\"],[1.0,\"#f0f921\"]]}],\"contourcarpet\":[{\"type\":\"contourcarpet\",\"colorbar\":{\"outlinewidth\":0,\"ticks\":\"\"}}],\"contour\":[{\"type\":\"contour\",\"colorbar\":{\"outlinewidth\":0,\"ticks\":\"\"},\"colorscale\":[[0.0,\"#0d0887\"],[0.1111111111111111,\"#46039f\"],[0.2222222222222222,\"#7201a8\"],[0.3333333333333333,\"#9c179e\"],[0.4444444444444444,\"#bd3786\"],[0.5555555555555556,\"#d8576b\"],[0.6666666666666666,\"#ed7953\"],[0.7777777777777778,\"#fb9f3a\"],[0.8888888888888888,\"#fdca26\"],[1.0,\"#f0f921\"]]}],\"surface\":[{\"type\":\"surface\",\"colorbar\":{\"outlinewidth\":0,\"ticks\":\"\"},\"colorscale\":[[0.0,\"#0d0887\"],[0.1111111111111111,\"#46039f\"],[0.2222222222222222,\"#7201a8\"],[0.3333333333333333,\"#9c179e\"],[0.4444444444444444,\"#bd3786\"],[0.5555555555555556,\"#d8576b\"],[0.6666666666666666,\"#ed7953\"],[0.7777777777777778,\"#fb9f3a\"],[0.8888888888888888,\"#fdca26\"],[1.0,\"#f0f921\"]]}],\"mesh3d\":[{\"type\":\"mesh3d\",\"colorbar\":{\"outlinewidth\":0,\"ticks\":\"\"}}],\"scatter\":[{\"fillpattern\":{\"fillmode\":\"overlay\",\"size\":10,\"solidity\":0.2},\"type\":\"scatter\"}],\"parcoords\":[{\"type\":\"parcoords\",\"line\":{\"colorbar\":{\"outlinewidth\":0,\"ticks\":\"\"}}}],\"scatterpolargl\":[{\"type\":\"scatterpolargl\",\"marker\":{\"colorbar\":{\"outlinewidth\":0,\"ticks\":\"\"}}}],\"bar\":[{\"error_x\":{\"color\":\"#2a3f5f\"},\"error_y\":{\"color\":\"#2a3f5f\"},\"marker\":{\"line\":{\"color\":\"#E5ECF6\",\"width\":0.5},\"pattern\":{\"fillmode\":\"overlay\",\"size\":10,\"solidity\":0.2}},\"type\":\"bar\"}],\"scattergeo\":[{\"type\":\"scattergeo\",\"marker\":{\"colorbar\":{\"outlinewidth\":0,\"ticks\":\"\"}}}],\"scatterpolar\":[{\"type\":\"scatterpolar\",\"marker\":{\"colorbar\":{\"outlinewidth\":0,\"ticks\":\"\"}}}],\"histogram\":[{\"marker\":{\"pattern\":{\"fillmode\":\"overlay\",\"size\":10,\"solidity\":0.2}},\"type\":\"histogram\"}],\"scattergl\":[{\"type\":\"scattergl\",\"marker\":{\"colorbar\":{\"outlinewidth\":0,\"ticks\":\"\"}}}],\"scatter3d\":[{\"type\":\"scatter3d\",\"line\":{\"colorbar\":{\"outlinewidth\":0,\"ticks\":\"\"}},\"marker\":{\"colorbar\":{\"outlinewidth\":0,\"ticks\":\"\"}}}],\"scattermapbox\":[{\"type\":\"scattermapbox\",\"marker\":{\"colorbar\":{\"outlinewidth\":0,\"ticks\":\"\"}}}],\"scatterternary\":[{\"type\":\"scatterternary\",\"marker\":{\"colorbar\":{\"outlinewidth\":0,\"ticks\":\"\"}}}],\"scattercarpet\":[{\"type\":\"scattercarpet\",\"marker\":{\"colorbar\":{\"outlinewidth\":0,\"ticks\":\"\"}}}],\"carpet\":[{\"aaxis\":{\"endlinecolor\":\"#2a3f5f\",\"gridcolor\":\"white\",\"linecolor\":\"white\",\"minorgridcolor\":\"white\",\"startlinecolor\":\"#2a3f5f\"},\"baxis\":{\"endlinecolor\":\"#2a3f5f\",\"gridcolor\":\"white\",\"linecolor\":\"white\",\"minorgridcolor\":\"white\",\"startlinecolor\":\"#2a3f5f\"},\"type\":\"carpet\"}],\"table\":[{\"cells\":{\"fill\":{\"color\":\"#EBF0F8\"},\"line\":{\"color\":\"white\"}},\"header\":{\"fill\":{\"color\":\"#C8D4E3\"},\"line\":{\"color\":\"white\"}},\"type\":\"table\"}],\"barpolar\":[{\"marker\":{\"line\":{\"color\":\"#E5ECF6\",\"width\":0.5},\"pattern\":{\"fillmode\":\"overlay\",\"size\":10,\"solidity\":0.2}},\"type\":\"barpolar\"}],\"pie\":[{\"automargin\":true,\"type\":\"pie\"}]},\"layout\":{\"autotypenumbers\":\"strict\",\"colorway\":[\"#636efa\",\"#EF553B\",\"#00cc96\",\"#ab63fa\",\"#FFA15A\",\"#19d3f3\",\"#FF6692\",\"#B6E880\",\"#FF97FF\",\"#FECB52\"],\"font\":{\"color\":\"#2a3f5f\"},\"hovermode\":\"closest\",\"hoverlabel\":{\"align\":\"left\"},\"paper_bgcolor\":\"white\",\"plot_bgcolor\":\"#E5ECF6\",\"polar\":{\"bgcolor\":\"#E5ECF6\",\"angularaxis\":{\"gridcolor\":\"white\",\"linecolor\":\"white\",\"ticks\":\"\"},\"radialaxis\":{\"gridcolor\":\"white\",\"linecolor\":\"white\",\"ticks\":\"\"}},\"ternary\":{\"bgcolor\":\"#E5ECF6\",\"aaxis\":{\"gridcolor\":\"white\",\"linecolor\":\"white\",\"ticks\":\"\"},\"baxis\":{\"gridcolor\":\"white\",\"linecolor\":\"white\",\"ticks\":\"\"},\"caxis\":{\"gridcolor\":\"white\",\"linecolor\":\"white\",\"ticks\":\"\"}},\"coloraxis\":{\"colorbar\":{\"outlinewidth\":0,\"ticks\":\"\"}},\"colorscale\":{\"sequential\":[[0.0,\"#0d0887\"],[0.1111111111111111,\"#46039f\"],[0.2222222222222222,\"#7201a8\"],[0.3333333333333333,\"#9c179e\"],[0.4444444444444444,\"#bd3786\"],[0.5555555555555556,\"#d8576b\"],[0.6666666666666666,\"#ed7953\"],[0.7777777777777778,\"#fb9f3a\"],[0.8888888888888888,\"#fdca26\"],[1.0,\"#f0f921\"]],\"sequentialminus\":[[0.0,\"#0d0887\"],[0.1111111111111111,\"#46039f\"],[0.2222222222222222,\"#7201a8\"],[0.3333333333333333,\"#9c179e\"],[0.4444444444444444,\"#bd3786\"],[0.5555555555555556,\"#d8576b\"],[0.6666666666666666,\"#ed7953\"],[0.7777777777777778,\"#fb9f3a\"],[0.8888888888888888,\"#fdca26\"],[1.0,\"#f0f921\"]],\"diverging\":[[0,\"#8e0152\"],[0.1,\"#c51b7d\"],[0.2,\"#de77ae\"],[0.3,\"#f1b6da\"],[0.4,\"#fde0ef\"],[0.5,\"#f7f7f7\"],[0.6,\"#e6f5d0\"],[0.7,\"#b8e186\"],[0.8,\"#7fbc41\"],[0.9,\"#4d9221\"],[1,\"#276419\"]]},\"xaxis\":{\"gridcolor\":\"white\",\"linecolor\":\"white\",\"ticks\":\"\",\"title\":{\"standoff\":15},\"zerolinecolor\":\"white\",\"automargin\":true,\"zerolinewidth\":2},\"yaxis\":{\"gridcolor\":\"white\",\"linecolor\":\"white\",\"ticks\":\"\",\"title\":{\"standoff\":15},\"zerolinecolor\":\"white\",\"automargin\":true,\"zerolinewidth\":2},\"scene\":{\"xaxis\":{\"backgroundcolor\":\"#E5ECF6\",\"gridcolor\":\"white\",\"linecolor\":\"white\",\"showbackground\":true,\"ticks\":\"\",\"zerolinecolor\":\"white\",\"gridwidth\":2},\"yaxis\":{\"backgroundcolor\":\"#E5ECF6\",\"gridcolor\":\"white\",\"linecolor\":\"white\",\"showbackground\":true,\"ticks\":\"\",\"zerolinecolor\":\"white\",\"gridwidth\":2},\"zaxis\":{\"backgroundcolor\":\"#E5ECF6\",\"gridcolor\":\"white\",\"linecolor\":\"white\",\"showbackground\":true,\"ticks\":\"\",\"zerolinecolor\":\"white\",\"gridwidth\":2}},\"shapedefaults\":{\"line\":{\"color\":\"#2a3f5f\"}},\"annotationdefaults\":{\"arrowcolor\":\"#2a3f5f\",\"arrowhead\":0,\"arrowwidth\":1},\"geo\":{\"bgcolor\":\"white\",\"landcolor\":\"#E5ECF6\",\"subunitcolor\":\"white\",\"showland\":true,\"showlakes\":true,\"lakecolor\":\"white\"},\"title\":{\"x\":0.05},\"mapbox\":{\"style\":\"light\"}}},\"width\":1600,\"height\":800},                        {\"responsive\": true}                    ).then(function(){\n",
       "                            \n",
       "var gd = document.getElementById('1c14f8d6-f2a6-447d-89fd-61e344eea594');\n",
       "var x = new MutationObserver(function (mutations, observer) {{\n",
       "        var display = window.getComputedStyle(gd).display;\n",
       "        if (!display || display === 'none') {{\n",
       "            console.log([gd, 'removed!']);\n",
       "            Plotly.purge(gd);\n",
       "            observer.disconnect();\n",
       "        }}\n",
       "}});\n",
       "\n",
       "// Listen for the removal of the full notebook cells\n",
       "var notebookContainer = gd.closest('#notebook-container');\n",
       "if (notebookContainer) {{\n",
       "    x.observe(notebookContainer, {childList: true});\n",
       "}}\n",
       "\n",
       "// Listen for the clearing of the current output cell\n",
       "var outputEl = gd.closest('.output');\n",
       "if (outputEl) {{\n",
       "    x.observe(outputEl, {childList: true});\n",
       "}}\n",
       "\n",
       "                        })                };                });            </script>        </div>"
      ]
     },
     "metadata": {},
     "output_type": "display_data"
    }
   ],
   "source": [
    "from sklearn.manifold import TSNE \n",
    "\n",
    "tsne = TSNE(n_components=2,random_state=0)\n",
    "train_projections = tsne.fit_transform(train_embeddings)\n",
    "\n",
    "fig = go.Figure(data=[go.Scatter(name=exer,x=train_projections[ train_labels==i,0],y=train_projections[train_labels==i,1],mode='markers')\n",
    "                     for i,exer in enumerate(desc_to_action)  ])\n",
    "fig.update_layout(width=1600, height=800)\n",
    "fig.show()"
   ]
  },
  {
   "cell_type": "code",
   "execution_count": null,
   "metadata": {},
   "outputs": [],
   "source": []
  }
 ],
 "metadata": {
  "kernelspec": {
   "display_name": "Python 3 (ipykernel)",
   "language": "python",
   "name": "python3"
  },
  "language_info": {
   "codemirror_mode": {
    "name": "ipython",
    "version": 3
   },
   "file_extension": ".py",
   "mimetype": "text/x-python",
   "name": "python",
   "nbconvert_exporter": "python",
   "pygments_lexer": "ipython3",
   "version": "3.8.10"
  }
 },
 "nbformat": 4,
 "nbformat_minor": 4
}
